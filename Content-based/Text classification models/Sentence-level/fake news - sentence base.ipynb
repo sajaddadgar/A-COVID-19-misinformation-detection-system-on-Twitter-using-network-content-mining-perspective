{
 "cells": [
  {
   "cell_type": "markdown",
   "metadata": {
    "id": "6UfYWcbbtKXD"
   },
   "source": [
    "# Upload the files"
   ]
  },
  {
   "cell_type": "code",
   "execution_count": null,
   "metadata": {},
   "outputs": [],
   "source": [
    "from google.colab import files\n",
    "files.upload()"
   ]
  },
  {
   "cell_type": "markdown",
   "metadata": {
    "id": "bkeSCBhqtM66"
   },
   "source": [
    "# Import the libraries"
   ]
  },
  {
   "cell_type": "code",
   "execution_count": 6,
   "metadata": {
    "colab": {
     "base_uri": "https://localhost:8080/"
    },
    "id": "_deRTkuXZfqk",
    "outputId": "2eefe1b3-4e29-408f-a8f8-60ee58f7fc3a"
   },
   "outputs": [
    {
     "name": "stdout",
     "output_type": "stream",
     "text": [
      "[nltk_data] Downloading package stopwords to /root/nltk_data...\n",
      "[nltk_data]   Unzipping corpora/stopwords.zip.\n",
      "[nltk_data] Downloading package punkt to /root/nltk_data...\n",
      "[nltk_data]   Unzipping tokenizers/punkt.zip.\n"
     ]
    }
   ],
   "source": [
    "import re\n",
    "import string\n",
    "import pickle\n",
    "import numpy as np\n",
    "import pandas as pd\n",
    "import seaborn as sns\n",
    "import matplotlib.pyplot as plt\n",
    "\n",
    "import nltk\n",
    "from nltk.corpus import stopwords\n",
    "from nltk.stem import PorterStemmer\n",
    "from nltk.tokenize import TweetTokenizer\n",
    "\n",
    "import wandb\n",
    "from wandb.keras import WandbCallback\n",
    "\n",
    "from sklearn.model_selection import train_test_split, GridSearchCV\n",
    "from sklearn.feature_extraction.text import CountVectorizer, TfidfVectorizer\n",
    "from sklearn.naive_bayes import MultinomialNB\n",
    "from sklearn.linear_model import LogisticRegression\n",
    "from sklearn.svm import SVC\n",
    "from sklearn.tree import DecisionTreeClassifier\n",
    "from sklearn.ensemble import RandomForestClassifier, StackingClassifier\n",
    "from sklearn.metrics import accuracy_score, precision_score, recall_score, confusion_matrix, classification_report\n",
    "\n",
    "import tensorflow as tf\n",
    "from tensorflow.keras import activations\n",
    "from tensorflow.keras.models import Sequential\n",
    "from tensorflow.keras.preprocessing.text import one_hot, hashing_trick, text_to_word_sequence\n",
    "from tensorflow.keras.preprocessing.sequence import pad_sequences\n",
    "from tensorflow.keras.layers import Embedding, Dense, Activation, LSTM, Bidirectional, Conv1D, GlobalMaxPooling1D, MaxPooling1D, Dropout\n",
    "from keras.backend import clear_session\n",
    "from tensorflow.keras.callbacks import EarlyStopping, ModelCheckpoint\n",
    "\n",
    "from utils import load_data, preprocessing, confusion_matrix_plot, evaluate, get_vocab_size, create_token2id, one_hot_text, get_verdict, get_verdict_with_token2id"
   ]
  },
  {
   "cell_type": "markdown",
   "metadata": {
    "id": "cKJf464UtVck"
   },
   "source": [
    "# Loading data"
   ]
  },
  {
   "cell_type": "code",
   "execution_count": 15,
   "metadata": {
    "id": "ARSMxxDd4-pg"
   },
   "outputs": [],
   "source": [
    "df_fake = pd.read_csv('tweet_dataset_18000_fake.csv')\n",
    "df_true = pd.read_csv('tweet_dataset_18000_true.csv')\n",
    "\n",
    "df = pd.concat([df_fake.iloc[:9523, [0, 1]], df_true.iloc[:9523, [0, 1]]])\n",
    "df = df.sample(frac=1)"
   ]
  },
  {
   "cell_type": "markdown",
   "metadata": {
    "id": "oHY2KrFSvA10"
   },
   "source": [
    "# Getting the data and Getting the independet and dependent variables"
   ]
  },
  {
   "cell_type": "code",
   "execution_count": 16,
   "metadata": {
    "colab": {
     "base_uri": "https://localhost:8080/"
    },
    "id": "F6wdW3kJjA9A",
    "outputId": "b08d5f16-1fb4-4de8-d0d3-e818daeddfed"
   },
   "outputs": [
    {
     "name": "stdout",
     "output_type": "stream",
     "text": [
      "X: A claim that the novel coronavirus was never detected in the major Chinese cities of Beijing and Shanghai has been shared repeatedly on Facebook Twitter and Instagram\n",
      "y: 0\n"
     ]
    }
   ],
   "source": [
    "X = df.iloc[:, 0].values\n",
    "y = df.iloc[:, 1].values\n",
    "\n",
    "print(\"X: {}\".format(X[0]))\n",
    "print(\"y: {}\".format(y[0]))"
   ]
  },
  {
   "cell_type": "code",
   "execution_count": 31,
   "metadata": {
    "colab": {
     "base_uri": "https://localhost:8080/"
    },
    "id": "mrUQr428jJuf",
    "outputId": "000145fb-9dbb-47e9-98df-aaa2d99fd961"
   },
   "outputs": [
    {
     "name": "stdout",
     "output_type": "stream",
     "text": [
      "Before: A claim that the novel coronavirus was never detected in the major Chinese cities of Beijing and Shanghai has been shared repeatedly on Facebook Twitter and Instagram\n",
      "After: claim novel coronaviru never detect major chines citi beij shanghai share repeatedli facebook twitter instagram\n"
     ]
    }
   ],
   "source": [
    "X_preproc = [preprocessing(i) for i in X]\n",
    "\n",
    "print('Before: {}'.format(X[0]))\n",
    "print('After: {}'.format(X_preproc[0]))"
   ]
  },
  {
   "cell_type": "code",
   "execution_count": 18,
   "metadata": {
    "id": "giPQjFC0jHT2"
   },
   "outputs": [],
   "source": [
    "X_train, X_test, y_train, y_test = train_test_split(X_preproc, y, test_size=0.2, random_state=1)"
   ]
  },
  {
   "cell_type": "markdown",
   "metadata": {
    "id": "SufIfj26sMJU"
   },
   "source": [
    "# **Part 1: Traditional machine learning**"
   ]
  },
  {
   "cell_type": "code",
   "execution_count": null,
   "metadata": {
    "id": "6mqYbxl8jSlp"
   },
   "outputs": [],
   "source": [
    "cv = TfidfVectorizer()\n",
    "\n",
    "X_train_cv = cv.fit_transform(X_train)\n",
    "X_test_cv = cv.transform(X_test)"
   ]
  },
  {
   "cell_type": "code",
   "execution_count": null,
   "metadata": {
    "id": "z459aydCz4l1"
   },
   "outputs": [],
   "source": [
    "with open('finalized_countvectorizer.pickle', 'wb') as handle:\n",
    "    pickle.dump(cv, handle, protocol=pickle.HIGHEST_PROTOCOL)"
   ]
  },
  {
   "cell_type": "markdown",
   "metadata": {
    "id": "aTtrZSv5sPkr"
   },
   "source": [
    "## Model 1. Naive bayes"
   ]
  },
  {
   "cell_type": "code",
   "execution_count": null,
   "metadata": {
    "id": "ZVZpJyXBsQMf"
   },
   "outputs": [],
   "source": [
    "naive_bayes = MultinomialNB()"
   ]
  },
  {
   "cell_type": "markdown",
   "metadata": {
    "id": "-u8rdjFtsRy7"
   },
   "source": [
    "### Grid search"
   ]
  },
  {
   "cell_type": "code",
   "execution_count": null,
   "metadata": {
    "colab": {
     "base_uri": "https://localhost:8080/"
    },
    "id": "aAQf4pkDsS1c",
    "outputId": "25f376fb-9e4d-46ca-993f-2f1643206b19"
   },
   "outputs": [
    {
     "name": "stdout",
     "output_type": "stream",
     "text": [
      "Best Accuracy: 88.46 %\n",
      "Best Parameters: {'alpha': 0.2, 'fit_prior': True}\n"
     ]
    }
   ],
   "source": [
    "parameters = [{'alpha': [0, 0.2, 0.3, 0.4, 0.5, 0.6, 0.7, 0.8, 0.9, 1, 2, 3, 4, 5], 'fit_prior': [True, False]}]\n",
    "\n",
    "grid_search = GridSearchCV(estimator = naive_bayes,\n",
    "                           param_grid = parameters,\n",
    "                           scoring = 'accuracy',\n",
    "                           cv = 10,\n",
    "                           n_jobs = -1)\n",
    "\n",
    "grid_search = grid_search.fit(X_train_cv, y_train)\n",
    "\n",
    "best_accuracy = grid_search.best_score_\n",
    "best_parameters = grid_search.best_params_\n",
    "\n",
    "print(\"Best Accuracy: {:.2f} %\".format(best_accuracy*100))\n",
    "print(\"Best Parameters:\", best_parameters)"
   ]
  },
  {
   "cell_type": "markdown",
   "metadata": {
    "id": "0wJIkU4MsbNf"
   },
   "source": [
    "### Training the model"
   ]
  },
  {
   "cell_type": "code",
   "execution_count": null,
   "metadata": {
    "id": "CfxMYAWwjnu5"
   },
   "outputs": [],
   "source": [
    "# Initializing the model\n",
    "naive_bayes = MultinomialNB(alpha=0.2)\n",
    "# Fitting the data into the model\n",
    "naive_bayes.fit(X_train_cv, y_train)\n",
    "# Prediction\n",
    "prediction = naive_bayes.predict(X_test_cv)"
   ]
  },
  {
   "cell_type": "markdown",
   "metadata": {
    "id": "nmWcUD9ZsfKU"
   },
   "source": [
    "### Evaluating the model"
   ]
  },
  {
   "cell_type": "code",
   "execution_count": null,
   "metadata": {
    "colab": {
     "base_uri": "https://localhost:8080/",
     "height": 469
    },
    "id": "2cpIvpM7sbiE",
    "outputId": "d0d2df88-abb4-447a-dba0-31be12fb8e44"
   },
   "outputs": [
    {
     "name": "stdout",
     "output_type": "stream",
     "text": [
      "              precision    recall  f1-score   support\n",
      "\n",
      "           0       0.89      0.89      0.89      1907\n",
      "           1       0.89      0.89      0.89      1903\n",
      "\n",
      "    accuracy                           0.89      3810\n",
      "   macro avg       0.89      0.89      0.89      3810\n",
      "weighted avg       0.89      0.89      0.89      3810\n",
      "\n",
      "Accuracy score: 0.889763779527559\n",
      "Precision score: 0.8872062663185378\n",
      "Recall score: 0.8928008407777194\n"
     ]
    },
    {
     "data": {
      "image/png": "[encoded data removed]",
      "text/plain": [
       "<Figure size 432x288 with 2 Axes>"
      ]
     },
     "metadata": {
      "tags": []
     },
     "output_type": "display_data"
    }
   ],
   "source": [
    "accuracy = evaluate(y_test, prediction)\n",
    "confusion_matrix_plot(confusion_matrix(y_test, prediction))"
   ]
  },
  {
   "cell_type": "markdown",
   "metadata": {
    "id": "7G88MwUbsjM7"
   },
   "source": [
    "### Save the final model"
   ]
  },
  {
   "cell_type": "code",
   "execution_count": null,
   "metadata": {
    "id": "VJSqmsO4sjlK"
   },
   "outputs": [],
   "source": [
    "pkl_filename = \"models/naive_bayes_model.pkl\"\n",
    "with open(pkl_filename, 'wb') as file:\n",
    "    pickle.dump(naive_bayes, file)"
   ]
  },
  {
   "cell_type": "markdown",
   "metadata": {
    "id": "8eAnW1sU0GNT"
   },
   "source": [
    "## Model 2. Logistic Regression"
   ]
  },
  {
   "cell_type": "code",
   "execution_count": null,
   "metadata": {
    "id": "8rYRK1zR0Izd"
   },
   "outputs": [],
   "source": [
    "logistic_regression = LogisticRegression(random_state = 0, max_iter=1000)"
   ]
  },
  {
   "cell_type": "markdown",
   "metadata": {
    "id": "Hxp4aDdB0JGr"
   },
   "source": [
    "### Grid search"
   ]
  },
  {
   "cell_type": "code",
   "execution_count": null,
   "metadata": {
    "colab": {
     "base_uri": "https://localhost:8080/"
    },
    "id": "8L4J2S2S0KCS",
    "outputId": "35199836-c26c-4add-e633-eabbf96b00ff"
   },
   "outputs": [
    {
     "name": "stdout",
     "output_type": "stream",
     "text": [
      "Best Accuracy: 88.78 %\n",
      "Best Parameters: {'C': 1, 'penalty': 'l2'}\n"
     ]
    }
   ],
   "source": [
    "parameters = [{'C': [0, 0.5, 1, 5, 10, 50, 100, 200, 500, 1000], 'penalty': ['l1', 'l2']},\n",
    "                  {'C': [0, 0.5, 1, 5, 10, 50, 100, 200, 500, 1000], 'penalty': ['l1', 'l2']}]\n",
    "\n",
    "grid_search = GridSearchCV(estimator = logistic_regression,\n",
    "                           param_grid = parameters,\n",
    "                           scoring = 'accuracy',\n",
    "                           cv = 10,\n",
    "                           n_jobs = -1)\n",
    "\n",
    "grid_search = grid_search.fit(X_train_cv, y_train)\n",
    "\n",
    "best_accuracy = grid_search.best_score_\n",
    "best_parameters = grid_search.best_params_\n",
    "\n",
    "print(\"Best Accuracy: {:.2f} %\".format(best_accuracy*100))\n",
    "print(\"Best Parameters:\", best_parameters)"
   ]
  },
  {
   "cell_type": "markdown",
   "metadata": {
    "id": "aqlvgH3S0OAc"
   },
   "source": [
    "### Training the model"
   ]
  },
  {
   "cell_type": "code",
   "execution_count": null,
   "metadata": {
    "id": "lYw_RVHzjVj3"
   },
   "outputs": [],
   "source": [
    "# Initializing the model\n",
    "logistic_regression = LogisticRegression(C=1, random_state = 0,  max_iter=1000)\n",
    "# Fitting the data into the model\n",
    "logistic_regression=logistic_regression.fit(X_train_cv, y_train)\n",
    "# Prediction\n",
    "prediction = logistic_regression.predict(X_test_cv)"
   ]
  },
  {
   "cell_type": "markdown",
   "metadata": {
    "id": "kju6hXTA0RGn"
   },
   "source": [
    "### Evaluating the model"
   ]
  },
  {
   "cell_type": "code",
   "execution_count": null,
   "metadata": {
    "colab": {
     "base_uri": "https://localhost:8080/",
     "height": 469
    },
    "id": "VMX9di960RiL",
    "outputId": "f001ba11-fb69-4026-db4a-8db9f2e9543d"
   },
   "outputs": [
    {
     "name": "stdout",
     "output_type": "stream",
     "text": [
      "              precision    recall  f1-score   support\n",
      "\n",
      "           0       0.89      0.90      0.90      1907\n",
      "           1       0.90      0.89      0.89      1903\n",
      "\n",
      "    accuracy                           0.89      3810\n",
      "   macro avg       0.89      0.89      0.89      3810\n",
      "weighted avg       0.89      0.89      0.89      3810\n",
      "\n",
      "Accuracy score: 0.8942257217847769\n",
      "Precision score: 0.8997867803837953\n",
      "Recall score: 0.8870204939569102\n"
     ]
    },
    {
     "data": {
      "image/png": "[encoded data removed]",
      "text/plain": [
       "<Figure size 432x288 with 2 Axes>"
      ]
     },
     "metadata": {
      "tags": []
     },
     "output_type": "display_data"
    }
   ],
   "source": [
    "accuracy = evaluate(y_test, prediction)\n",
    "confusion_matrix_plot(confusion_matrix(y_test, prediction))"
   ]
  },
  {
   "cell_type": "markdown",
   "metadata": {
    "id": "z9ndXxjE4_rM"
   },
   "source": [
    "### Save the final model"
   ]
  },
  {
   "cell_type": "code",
   "execution_count": null,
   "metadata": {
    "id": "ZM3mQdI34__T"
   },
   "outputs": [],
   "source": [
    "pkl_filename = \"models/logistic_regression_model.pkl\"\n",
    "with open(pkl_filename, 'wb') as file:\n",
    "    pickle.dump(logistic_regression, file)"
   ]
  },
  {
   "cell_type": "markdown",
   "metadata": {
    "id": "NNT1lKAB5EMT"
   },
   "source": [
    "## Model 3. Support vector machine (SVM)"
   ]
  },
  {
   "cell_type": "code",
   "execution_count": null,
   "metadata": {
    "id": "_h6ZiYVr5Egg"
   },
   "outputs": [],
   "source": [
    "svm = SVC(random_state = 0)"
   ]
  },
  {
   "cell_type": "markdown",
   "metadata": {
    "id": "_Z6m6e4r5FmT"
   },
   "source": [
    "### Grid search"
   ]
  },
  {
   "cell_type": "code",
   "execution_count": null,
   "metadata": {
    "id": "uxz2ATPP5IwM"
   },
   "outputs": [],
   "source": [
    "parameters = [{'C': [1, 10, 100, 1000], 'kernel': ['linear']},\n",
    "              {'C': [1, 10, 100, 1000], 'kernel': ['rbf'], 'gamma': ['scale', 'auto']}]\n",
    "\n",
    "\n",
    "grid_search = GridSearchCV(estimator = svm,\n",
    "                           param_grid = parameters,\n",
    "                           scoring = 'accuracy',\n",
    "                           cv = 10,\n",
    "                           n_jobs = -1)\n",
    "\n",
    "grid_search = grid_search.fit(X_train_cv, y_train)\n",
    "\n",
    "best_accuracy = grid_search.best_score_\n",
    "best_parameters = grid_search.best_params_\n",
    "\n",
    "print(\"Best Accuracy: {:.2f} %\".format(best_accuracy*100))\n",
    "print(\"Best Parameters:\", best_parameters)"
   ]
  },
  {
   "cell_type": "markdown",
   "metadata": {
    "id": "ETsNerVO5Lxr"
   },
   "source": [
    "### Training the model"
   ]
  },
  {
   "cell_type": "code",
   "execution_count": null,
   "metadata": {
    "id": "Bf5pXFfI5MjC"
   },
   "outputs": [],
   "source": [
    "# Initializing the model\n",
    "svm = SVC(kernel = 'linear', C=1, random_state = 0)\n",
    "# Fitting the data into the model\n",
    "svm.fit(X_train_cv, y_train)\n",
    "# Prediction\n",
    "prediction = svm.predict(X_test_cv)"
   ]
  },
  {
   "cell_type": "markdown",
   "metadata": {
    "id": "idByIyHJ5Ns8"
   },
   "source": [
    "### Evaluating the model"
   ]
  },
  {
   "cell_type": "code",
   "execution_count": null,
   "metadata": {
    "colab": {
     "base_uri": "https://localhost:8080/",
     "height": 469
    },
    "id": "JH4cJoWY5Ou1",
    "outputId": "8c2733c2-f04b-4b66-b90a-bf035e0c8245"
   },
   "outputs": [
    {
     "name": "stdout",
     "output_type": "stream",
     "text": [
      "              precision    recall  f1-score   support\n",
      "\n",
      "           0       0.89      0.89      0.89      1907\n",
      "           1       0.89      0.89      0.89      1903\n",
      "\n",
      "    accuracy                           0.89      3810\n",
      "   macro avg       0.89      0.89      0.89      3810\n",
      "weighted avg       0.89      0.89      0.89      3810\n",
      "\n",
      "Accuracy score: 0.8905511811023622\n",
      "Precision score: 0.892706131078224\n",
      "Recall score: 0.8875459800315292\n"
     ]
    },
    {
     "data": {
      "image/png": "[encoded data removed]",
      "text/plain": [
       "<Figure size 432x288 with 2 Axes>"
      ]
     },
     "metadata": {
      "tags": []
     },
     "output_type": "display_data"
    }
   ],
   "source": [
    "accuracy = evaluate(y_test, prediction)\n",
    "confusion_matrix_plot(confusion_matrix(y_test, prediction))"
   ]
  },
  {
   "cell_type": "markdown",
   "metadata": {
    "id": "82pMA5or5P-j"
   },
   "source": [
    "### Save the final model"
   ]
  },
  {
   "cell_type": "code",
   "execution_count": null,
   "metadata": {
    "id": "1rqcIlqk5Q6l"
   },
   "outputs": [],
   "source": [
    "pkl_filename = \"models/svm_model.pkl\"\n",
    "with open(pkl_filename, 'wb') as file:\n",
    "    pickle.dump(svm, file)"
   ]
  },
  {
   "cell_type": "markdown",
   "metadata": {
    "id": "xjspc3GI5cgv"
   },
   "source": [
    "## Model 4. Decision tree"
   ]
  },
  {
   "cell_type": "code",
   "execution_count": null,
   "metadata": {
    "id": "bhqHPSio5dtq"
   },
   "outputs": [],
   "source": [
    "decision_Tree = DecisionTreeClassifier()"
   ]
  },
  {
   "cell_type": "markdown",
   "metadata": {
    "id": "7S7i4V8G5epz"
   },
   "source": [
    "### Grid search"
   ]
  },
  {
   "cell_type": "code",
   "execution_count": null,
   "metadata": {
    "colab": {
     "base_uri": "https://localhost:8080/"
    },
    "id": "KaFCNV3R5e8i",
    "outputId": "ef33d1ff-9b9f-482f-e936-ea25308e5169"
   },
   "outputs": [
    {
     "name": "stdout",
     "output_type": "stream",
     "text": [
      "Best Accuracy: 83.89 %\n",
      "Best Parameters: {'criterion': 'entropy', 'max_depth': 90, 'max_features': None, 'min_samples_split': 2, 'min_samples_leaf': 1}\n"
     ]
    }
   ],
   "source": [
    "parameters = [{'criterion':['gini','entropy'], 'max_depth':[None, 1, 5, 10, 20, 50, 90, 100, 150], 'max_features':[None, 'sqrt', 'auto', 'log2'], 'min_samples_split':[1, 2, 5, 10, 20, 40], 'min_samples_leaf':[1, 2, 5, 10, 20,]\n",
    "\n",
    "grid_search = GridSearchCV(estimator = decision_Tree,\n",
    "                           param_grid = parameters,\n",
    "                           scoring = 'accuracy',\n",
    "                           cv = 10,\n",
    "                           n_jobs = -1)\n",
    "\n",
    "grid_search = grid_search.fit(X_train_cv, y_train)\n",
    "\n",
    "best_accuracy = grid_search.best_score_\n",
    "best_parameters = grid_search.best_params_\n",
    "\n",
    "print(\"Best Accuracy: {:.2f} %\".format(best_accuracy*100))\n",
    "print(\"Best Parameters:\", best_parameters)"
   ]
  },
  {
   "cell_type": "markdown",
   "metadata": {
    "id": "4nNCtSZM5guA"
   },
   "source": [
    "### Training the model"
   ]
  },
  {
   "cell_type": "code",
   "execution_count": null,
   "metadata": {
    "id": "PfI6Nfq15inj"
   },
   "outputs": [],
   "source": [
    "# Initializing the model\n",
    "decision_Tree = DecisionTreeClassifier(criterion = 'entropy', max_depth = 150)\n",
    "# Fitting the data into the model\n",
    "decision_Tree.fit(X_train_cv, y_train)\n",
    "# Prediction\n",
    "prediction = decision_Tree.predict(X_test_cv)"
   ]
  },
  {
   "cell_type": "markdown",
   "metadata": {
    "id": "eOrwwS-f5jek"
   },
   "source": [
    "### Evaluating the model"
   ]
  },
  {
   "cell_type": "code",
   "execution_count": null,
   "metadata": {
    "colab": {
     "base_uri": "https://localhost:8080/",
     "height": 469
    },
    "id": "2FW9Trgk5kaD",
    "outputId": "69aad150-eb49-4ba6-ebbb-f43005cbefe5"
   },
   "outputs": [
    {
     "name": "stdout",
     "output_type": "stream",
     "text": [
      "              precision    recall  f1-score   support\n",
      "\n",
      "           0       0.82      0.87      0.84      1907\n",
      "           1       0.86      0.81      0.83      1903\n",
      "\n",
      "    accuracy                           0.84      3810\n",
      "   macro avg       0.84      0.84      0.84      3810\n",
      "weighted avg       0.84      0.84      0.84      3810\n",
      "\n",
      "Accuracy score: 0.8377952755905512\n",
      "Precision score: 0.860347728547392\n",
      "Recall score: 0.8060956384655806\n"
     ]
    },
    {
     "data": {
      "image/png": "[encoded data removed]",
      "text/plain": [
       "<Figure size 432x288 with 2 Axes>"
      ]
     },
     "metadata": {
      "tags": []
     },
     "output_type": "display_data"
    }
   ],
   "source": [
    "accuracy = evaluate(y_test, prediction)\n",
    "confusion_matrix_plot(confusion_matrix(y_test, prediction))"
   ]
  },
  {
   "cell_type": "markdown",
   "metadata": {
    "id": "FDxZi-m65mUt"
   },
   "source": [
    "### Save the final model"
   ]
  },
  {
   "cell_type": "code",
   "execution_count": null,
   "metadata": {
    "id": "yo-Kv1dp5moM"
   },
   "outputs": [],
   "source": [
    "pkl_filename = \"models/decision_Tree_model.pkl\"\n",
    "with open(pkl_filename, 'wb') as file:\n",
    "    pickle.dump(decision_Tree, file)"
   ]
  },
  {
   "cell_type": "markdown",
   "metadata": {
    "id": "G3X-6gDR7zx8"
   },
   "source": [
    "# **Part 2: Ensemble models**"
   ]
  },
  {
   "cell_type": "markdown",
   "metadata": {
    "id": "ybHQrMOO71dE"
   },
   "source": [
    "## Model 5. Random forest"
   ]
  },
  {
   "cell_type": "code",
   "execution_count": null,
   "metadata": {
    "id": "2_y4ie7y72ir"
   },
   "outputs": [],
   "source": [
    "random_forest = RandomForestClassifier( )"
   ]
  },
  {
   "cell_type": "markdown",
   "metadata": {
    "id": "VMuDgFSB74Mc"
   },
   "source": [
    "### Grid search"
   ]
  },
  {
   "cell_type": "code",
   "execution_count": null,
   "metadata": {
    "id": "vo-xSMbM8hFg"
   },
   "outputs": [],
   "source": [
    "parameters = [{'n_estimators':[10, 50, 100, 200, 500]}]\n",
    "\n",
    "grid_search = GridSearchCV(estimator = random_forest,\n",
    "                           param_grid = parameters,\n",
    "                           scoring = 'accuracy',\n",
    "                           cv = 10,\n",
    "                           n_jobs = -1)\n",
    "\n",
    "grid_search = grid_search.fit(X_train_cv, y_train)\n",
    "\n",
    "best_accuracy = grid_search.best_score_\n",
    "best_parameters = grid_search.best_params_\n",
    "\n",
    "print(\"Best Accuracy: {:.2f} %\".format(best_accuracy*100))\n",
    "print(\"Best Parameters:\", best_parameters)"
   ]
  },
  {
   "cell_type": "markdown",
   "metadata": {
    "id": "rhT8TYr38mb0"
   },
   "source": [
    "### Training the model"
   ]
  },
  {
   "cell_type": "code",
   "execution_count": null,
   "metadata": {
    "id": "oTPa0ycU8nD2"
   },
   "outputs": [],
   "source": [
    "# Initializing the model\n",
    "random_forest = RandomForestClassifier(n_estimators=200, random_state=0)\n",
    "# Fitting the data into the model\n",
    "random_forest.fit(X_train_cv, y_train)\n",
    "# Prediction\n",
    "prediction = random_forest.predict(X_test_cv)"
   ]
  },
  {
   "cell_type": "markdown",
   "metadata": {
    "id": "sByqgb4n8o9G"
   },
   "source": [
    "### Evaluating the model"
   ]
  },
  {
   "cell_type": "code",
   "execution_count": null,
   "metadata": {
    "colab": {
     "base_uri": "https://localhost:8080/",
     "height": 469
    },
    "id": "Jiu7Z1v-BK_S",
    "outputId": "e46ea33a-3c55-40c3-bd6f-0ed284b89bb9"
   },
   "outputs": [
    {
     "name": "stdout",
     "output_type": "stream",
     "text": [
      "              precision    recall  f1-score   support\n",
      "\n",
      "           0       0.88      0.90      0.89      1907\n",
      "           1       0.90      0.87      0.89      1903\n",
      "\n",
      "    accuracy                           0.89      3810\n",
      "   macro avg       0.89      0.89      0.89      3810\n",
      "weighted avg       0.89      0.89      0.89      3810\n",
      "\n",
      "Accuracy score: 0.8884514435695539\n",
      "Precision score: 0.8994594594594595\n",
      "Recall score: 0.8744088281660536\n"
     ]
    },
    {
     "data": {
      "image/png": "[encoded data removed]",
      "text/plain": [
       "<Figure size 432x288 with 2 Axes>"
      ]
     },
     "metadata": {
      "needs_background": "light",
      "tags": []
     },
     "output_type": "display_data"
    }
   ],
   "source": [
    "accuracy = evaluate(y_test, prediction)\n",
    "confusion_matrix_plot(confusion_matrix(y_test, prediction))"
   ]
  },
  {
   "cell_type": "markdown",
   "metadata": {
    "id": "eyv2FKSy8r3v"
   },
   "source": [
    "### Save the final model"
   ]
  },
  {
   "cell_type": "code",
   "execution_count": null,
   "metadata": {
    "id": "BR_3Zw_D8s8l"
   },
   "outputs": [],
   "source": [
    "pkl_filename = \"models/random_forest_model.pkl\"\n",
    "with open(pkl_filename, 'wb') as file:\n",
    "    pickle.dump(random_forest, file)"
   ]
  },
  {
   "cell_type": "markdown",
   "metadata": {
    "id": "LhqzoOSVmFAe"
   },
   "source": [
    "## Model 6. Stacking model"
   ]
  },
  {
   "cell_type": "markdown",
   "metadata": {
    "id": "BPoCTQg7mIKv"
   },
   "source": [
    "### Training the model"
   ]
  },
  {
   "cell_type": "code",
   "execution_count": null,
   "metadata": {
    "id": "r1UKbzKxBNZo"
   },
   "outputs": [],
   "source": [
    "estimators = [('naive bayes', naive_bayes),\n",
    "              ('svm', svm),\n",
    "              ('decision tree', decision_Tree)]\n",
    "\n",
    "# Initializing the model\n",
    "Stacking = StackingClassifier(estimators=estimators, final_estimator=logistic_regression)\n",
    "# Fitting the data into the model\n",
    "Stacking.fit(X_train_cv, y_train)\n",
    "# Prediction\n",
    "prediction = Stacking.predict(X_test_cv)"
   ]
  },
  {
   "cell_type": "markdown",
   "metadata": {
    "id": "DJy28hfomKfS"
   },
   "source": [
    "### Evaluating the model"
   ]
  },
  {
   "cell_type": "code",
   "execution_count": null,
   "metadata": {
    "colab": {
     "base_uri": "https://localhost:8080/",
     "height": 469
    },
    "id": "T-7Nbtw8mJ18",
    "outputId": "03ce647e-4d06-4dd0-ea9d-dc0dfb1c12ee"
   },
   "outputs": [
    {
     "name": "stdout",
     "output_type": "stream",
     "text": [
      "              precision    recall  f1-score   support\n",
      "\n",
      "           0       0.90      0.91      0.90      1907\n",
      "           1       0.91      0.90      0.90      1903\n",
      "\n",
      "    accuracy                           0.90      3810\n",
      "   macro avg       0.90      0.90      0.90      3810\n",
      "weighted avg       0.90      0.90      0.90      3810\n",
      "\n",
      "Accuracy score: 0.9031496062992126\n",
      "Precision score: 0.9071125265392781\n",
      "Recall score: 0.8980557015239096\n"
     ]
    },
    {
     "data": {
      "image/png": "[encoded data removed]",
      "text/plain": [
       "<Figure size 432x288 with 2 Axes>"
      ]
     },
     "metadata": {
      "needs_background": "light",
      "tags": []
     },
     "output_type": "display_data"
    }
   ],
   "source": [
    "accuracy = evaluate(y_test, prediction)\n",
    "confusion_matrix_plot(confusion_matrix(y_test, prediction))"
   ]
  },
  {
   "cell_type": "markdown",
   "metadata": {
    "id": "YcyG-dklmSHG"
   },
   "source": [
    "### Save the final model"
   ]
  },
  {
   "cell_type": "code",
   "execution_count": null,
   "metadata": {
    "id": "SXfuj8eAmT7j"
   },
   "outputs": [],
   "source": [
    "pkl_filename = \"models/stacking_model.pkl\"\n",
    "with open(pkl_filename, 'wb') as file:\n",
    "    pickle.dump(Stacking, file)"
   ]
  },
  {
   "cell_type": "markdown",
   "metadata": {
    "id": "Uv7VD3KSmzIf"
   },
   "source": [
    "# **Part 3. Deep learning**"
   ]
  },
  {
   "cell_type": "code",
   "execution_count": null,
   "metadata": {
    "colab": {
     "base_uri": "https://localhost:8080/"
    },
    "id": "9cwvnbdRm2a4",
    "outputId": "5e8af1df-0900-48a4-9cbc-baa817df5428"
   },
   "outputs": [
    {
     "data": {
      "text/plain": [
       "186737"
      ]
     },
     "execution_count": 47,
     "metadata": {
      "tags": []
     },
     "output_type": "execute_result"
    }
   ],
   "source": [
    "all_words = []\n",
    "for text in X_preproc:\n",
    "    for i in text_to_word_sequence(text):\n",
    "        all_words.append(i)\n",
    "len(all_words)"
   ]
  },
  {
   "cell_type": "code",
   "execution_count": null,
   "metadata": {
    "id": "-qq7RNcVnn5u"
   },
   "outputs": [],
   "source": [
    "with open('words.pickle', 'wb') as handle:\n",
    "    pickle.dump(all_words, handle, protocol=pickle.HIGHEST_PROTOCOL)"
   ]
  },
  {
   "cell_type": "code",
   "execution_count": 19,
   "metadata": {
    "id": "Cu9T2xMbo2fE"
   },
   "outputs": [],
   "source": [
    "with open('./words.pickle', 'rb') as handle:\n",
    "    tokenizer = pickle.load(handle)"
   ]
  },
  {
   "cell_type": "code",
   "execution_count": 20,
   "metadata": {
    "colab": {
     "base_uri": "https://localhost:8080/"
    },
    "id": "EI2KLLd2o3ay",
    "outputId": "fa72e1de-6b9b-43e6-f950-d1e775437036"
   },
   "outputs": [
    {
     "name": "stdout",
     "output_type": "stream",
     "text": [
      "max_token: 19\n"
     ]
    }
   ],
   "source": [
    "_, max_token = get_vocab_size(X_preproc, [], [])\n",
    "print('max_token: {}'.format(max_token))"
   ]
  },
  {
   "cell_type": "code",
   "execution_count": 22,
   "metadata": {
    "id": "BMG-TdKypKYn"
   },
   "outputs": [],
   "source": [
    "onehot_train=[hashing_trick(words, round(len(tokenizer)*1.3), hash_function='md5') for words in X_train]\n",
    "onehot_test=[hashing_trick(words, round(len(tokenizer)*1.3), hash_function='md5') for words in X_test]\n",
    "\n",
    "train_embedded_docs=pad_sequences(onehot_train,padding='pre',maxlen=max_token)\n",
    "test_embedded_docs=pad_sequences(onehot_test,padding='pre',maxlen=max_token)\n",
    "\n",
    "X_train_final=np.array(train_embedded_docs)\n",
    "X_test_final=np.array(test_embedded_docs)\n",
    "\n",
    "y_train_final=np.array(y_train)\n",
    "y_test_final=np.array(y_test)"
   ]
  },
  {
   "cell_type": "markdown",
   "metadata": {
    "id": "BwtytoTgpY60"
   },
   "source": [
    "## Model 7. LSTM"
   ]
  },
  {
   "cell_type": "markdown",
   "metadata": {
    "id": "cGFtR81mpat1"
   },
   "source": [
    "### LSTM - 1 layer - 128 unit + 0.3 Dropout"
   ]
  },
  {
   "cell_type": "code",
   "execution_count": null,
   "metadata": {
    "colab": {
     "base_uri": "https://localhost:8080/",
     "height": 1000,
     "referenced_widgets": [
      "9099e0c30a6e4adf8b61e012750cb725",
      "7c0efd0d833b4c948b40397ace58b750",
      "799a830ba89b48c3996dcc91e6336e0a",
      "6128548143fc4f5a8af68f327ce16fed",
      "0ff450135fd247c299a7e1747820e6b4",
      "43f7359350594a0ea4c1553d194585bd",
      "579fa54f1e004a4ab0c3e4e2b2b257cb",
      "ae2484eac8cb49dca7343ebbfa15d1c9"
     ]
    },
    "id": "AS_gWl3SpbU-",
    "outputId": "50e39847-c952-4dca-e6dd-8c136815716c"
   },
   "outputs": [
    {
     "data": {
      "application/javascript": [
       "\n",
       "        window._wandbApiKey = new Promise((resolve, reject) => {\n",
       "            function loadScript(url) {\n",
       "            return new Promise(function(resolve, reject) {\n",
       "                let newScript = document.createElement(\"script\");\n",
       "                newScript.onerror = reject;\n",
       "                newScript.onload = resolve;\n",
       "                document.body.appendChild(newScript);\n",
       "                newScript.src = url;\n",
       "            });\n",
       "            }\n",
       "            loadScript(\"https://cdn.jsdelivr.net/npm/postmate/build/postmate.min.js\").then(() => {\n",
       "            const iframe = document.createElement('iframe')\n",
       "            iframe.style.cssText = \"width:0;height:0;border:none\"\n",
       "            document.body.appendChild(iframe)\n",
       "            const handshake = new Postmate({\n",
       "                container: iframe,\n",
       "                url: 'https://wandb.ai/authorize'\n",
       "            });\n",
       "            const timeout = setTimeout(() => reject(\"Couldn't auto authenticate\"), 5000)\n",
       "            handshake.then(function(child) {\n",
       "                child.on('authorize', data => {\n",
       "                    clearTimeout(timeout)\n",
       "                    resolve(data)\n",
       "                });\n",
       "            });\n",
       "            })\n",
       "        });\n",
       "    "
      ],
      "text/plain": [
       "<IPython.core.display.Javascript object>"
      ]
     },
     "metadata": {
      "tags": []
     },
     "output_type": "display_data"
    },
    {
     "name": "stderr",
     "output_type": "stream",
     "text": [
      "\u001b[34m\u001b[1mwandb\u001b[0m: Appending key for api.wandb.ai to your netrc file: /root/.netrc\n"
     ]
    },
    {
     "data": {
      "text/html": [
       "\n",
       "                Tracking run with wandb version 0.10.22<br/>\n",
       "                Syncing run <strong style=\"color:#cdcd00\">fragrant-resonance-1</strong> to <a href=\"https://wandb.ai\" target=\"_blank\">Weights & Biases</a> <a href=\"https://docs.wandb.com/integrations/jupyter.html\" target=\"_blank\">(Documentation)</a>.<br/>\n",
       "                Project page: <a href=\"https://wandb.ai/sajadadgar/sentence_base\" target=\"_blank\">https://wandb.ai/sajadadgar/sentence_base</a><br/>\n",
       "                Run page: <a href=\"https://wandb.ai/sajadadgar/sentence_base/runs/3l3bjuvv\" target=\"_blank\">https://wandb.ai/sajadadgar/sentence_base/runs/3l3bjuvv</a><br/>\n",
       "                Run data is saved locally in <code>/content/wandb/run-20210318_232508-3l3bjuvv</code><br/><br/>\n",
       "            "
      ],
      "text/plain": [
       "<IPython.core.display.HTML object>"
      ]
     },
     "metadata": {
      "tags": []
     },
     "output_type": "display_data"
    },
    {
     "name": "stdout",
     "output_type": "stream",
     "text": [
      "Model: \"sequential\"\n",
      "_________________________________________________________________\n",
      "Layer (type)                 Output Shape              Param #   \n",
      "=================================================================\n",
      "embedding (Embedding)        (None, 19, 40)            9710360   \n",
      "_________________________________________________________________\n",
      "dropout (Dropout)            (None, 19, 40)            0         \n",
      "_________________________________________________________________\n",
      "lstm (LSTM)                  (None, 128)               86528     \n",
      "_________________________________________________________________\n",
      "dense (Dense)                (None, 1)                 129       \n",
      "=================================================================\n",
      "Total params: 9,797,017\n",
      "Trainable params: 9,797,017\n",
      "Non-trainable params: 0\n",
      "_________________________________________________________________\n",
      "None\n",
      "Epoch 1/100\n",
      "239/239 [==============================] - 48s 186ms/step - loss: 0.5439 - accuracy: 0.7103 - val_loss: 0.2877 - val_accuracy: 0.8840\n",
      "\n",
      "Epoch 00001: val_accuracy improved from -inf to 0.88399, saving model to ./saved_models/checkpoints/best_model\n",
      "INFO:tensorflow:Assets written to: ./saved_models/checkpoints/best_model/assets\n",
      "Epoch 2/100\n",
      "239/239 [==============================] - 46s 194ms/step - loss: 0.2485 - accuracy: 0.9019 - val_loss: 0.2606 - val_accuracy: 0.8979\n",
      "\n",
      "Epoch 00002: val_accuracy improved from 0.88399 to 0.89790, saving model to ./saved_models/checkpoints/best_model\n",
      "INFO:tensorflow:Assets written to: ./saved_models/checkpoints/best_model/assets\n",
      "Epoch 3/100\n",
      "239/239 [==============================] - 45s 189ms/step - loss: 0.1931 - accuracy: 0.9227 - val_loss: 0.2649 - val_accuracy: 0.8969\n",
      "\n",
      "Epoch 00003: val_accuracy did not improve from 0.89790\n",
      "Epoch 4/100\n",
      "239/239 [==============================] - 44s 184ms/step - loss: 0.1531 - accuracy: 0.9418 - val_loss: 0.2721 - val_accuracy: 0.8963\n",
      "\n",
      "Epoch 00004: val_accuracy did not improve from 0.89790\n",
      "Epoch 5/100\n",
      "239/239 [==============================] - 45s 190ms/step - loss: 0.1207 - accuracy: 0.9556 - val_loss: 0.3006 - val_accuracy: 0.8953\n",
      "\n",
      "Epoch 00005: val_accuracy did not improve from 0.89790\n",
      "Epoch 6/100\n",
      "239/239 [==============================] - 44s 183ms/step - loss: 0.1110 - accuracy: 0.9598 - val_loss: 0.2848 - val_accuracy: 0.8934\n",
      "\n",
      "Epoch 00006: val_accuracy did not improve from 0.89790\n",
      "Epoch 7/100\n",
      "239/239 [==============================] - 44s 183ms/step - loss: 0.1022 - accuracy: 0.9641 - val_loss: 0.3421 - val_accuracy: 0.8919\n",
      "\n",
      "Epoch 00007: val_accuracy did not improve from 0.89790\n",
      "Epoch 8/100\n",
      "239/239 [==============================] - 43s 179ms/step - loss: 0.0794 - accuracy: 0.9701 - val_loss: 0.3491 - val_accuracy: 0.8958\n",
      "\n",
      "Epoch 00008: val_accuracy did not improve from 0.89790\n",
      "Epoch 9/100\n",
      "239/239 [==============================] - 42s 174ms/step - loss: 0.0742 - accuracy: 0.9735 - val_loss: 0.3536 - val_accuracy: 0.8953\n",
      "\n",
      "Epoch 00009: val_accuracy did not improve from 0.89790\n",
      "Epoch 10/100\n",
      "239/239 [==============================] - 42s 175ms/step - loss: 0.0619 - accuracy: 0.9777 - val_loss: 0.3929 - val_accuracy: 0.8940\n",
      "\n",
      "Epoch 00010: val_accuracy did not improve from 0.89790\n",
      "Epoch 11/100\n",
      "239/239 [==============================] - 42s 175ms/step - loss: 0.0691 - accuracy: 0.9742 - val_loss: 0.3616 - val_accuracy: 0.8948\n",
      "\n",
      "Epoch 00011: val_accuracy did not improve from 0.89790\n"
     ]
    },
    {
     "data": {
      "text/html": [
       "<br/>Waiting for W&B process to finish, PID 356<br/>Program ended successfully."
      ],
      "text/plain": [
       "<IPython.core.display.HTML object>"
      ]
     },
     "metadata": {
      "tags": []
     },
     "output_type": "display_data"
    },
    {
     "data": {
      "application/vnd.jupyter.widget-view+json": {
       "model_id": "9099e0c30a6e4adf8b61e012750cb725",
       "version_major": 2,
       "version_minor": 0
      },
      "text/plain": [
       "VBox(children=(Label(value=' 112.15MB of 112.15MB uploaded (0.00MB deduped)\\r'), FloatProgress(value=1.0, max=…"
      ]
     },
     "metadata": {
      "tags": []
     },
     "output_type": "display_data"
    },
    {
     "data": {
      "text/html": [
       "Find user logs for this run at: <code>/content/wandb/run-20210318_232508-3l3bjuvv/logs/debug.log</code>"
      ],
      "text/plain": [
       "<IPython.core.display.HTML object>"
      ]
     },
     "metadata": {
      "tags": []
     },
     "output_type": "display_data"
    },
    {
     "data": {
      "text/html": [
       "Find internal logs for this run at: <code>/content/wandb/run-20210318_232508-3l3bjuvv/logs/debug-internal.log</code>"
      ],
      "text/plain": [
       "<IPython.core.display.HTML object>"
      ]
     },
     "metadata": {
      "tags": []
     },
     "output_type": "display_data"
    },
    {
     "data": {
      "text/html": [
       "<h3>Run summary:</h3><br/><style>\n",
       "    table.wandb td:nth-child(1) { padding: 0 10px; text-align: right }\n",
       "    </style><table class=\"wandb\">\n",
       "<tr><td>epoch</td><td>10</td></tr><tr><td>loss</td><td>0.07028</td></tr><tr><td>accuracy</td><td>0.97414</td></tr><tr><td>val_loss</td><td>0.36158</td></tr><tr><td>val_accuracy</td><td>0.89475</td></tr><tr><td>_runtime</td><td>500</td></tr><tr><td>_timestamp</td><td>1616110408</td></tr><tr><td>_step</td><td>10</td></tr><tr><td>best_val_loss</td><td>0.26059</td></tr><tr><td>best_epoch</td><td>1</td></tr></table>"
      ],
      "text/plain": [
       "<IPython.core.display.HTML object>"
      ]
     },
     "metadata": {
      "tags": []
     },
     "output_type": "display_data"
    },
    {
     "data": {
      "text/html": [
       "<h3>Run history:</h3><br/><style>\n",
       "    table.wandb td:nth-child(1) { padding: 0 10px; text-align: right }\n",
       "    </style><table class=\"wandb\">\n",
       "<tr><td>epoch</td><td>▁▂▂▃▄▅▅▆▇▇█</td></tr><tr><td>loss</td><td>█▄▃▃▂▂▂▁▁▁▁</td></tr><tr><td>accuracy</td><td>▁▅▆▇▇▇█████</td></tr><tr><td>val_loss</td><td>▂▁▁▂▃▂▅▆▆█▆</td></tr><tr><td>val_accuracy</td><td>▁█▇▇▇▆▅▇▇▆▆</td></tr><tr><td>_runtime</td><td>▁▂▃▃▄▅▅▆▇▇█</td></tr><tr><td>_timestamp</td><td>▁▂▃▃▄▅▅▆▇▇█</td></tr><tr><td>_step</td><td>▁▂▂▃▄▅▅▆▇▇█</td></tr></table><br/>"
      ],
      "text/plain": [
       "<IPython.core.display.HTML object>"
      ]
     },
     "metadata": {
      "tags": []
     },
     "output_type": "display_data"
    },
    {
     "data": {
      "text/html": [
       "Synced 5 W&B file(s), 1 media file(s), 0 artifact file(s) and 1 other file(s)"
      ],
      "text/plain": [
       "<IPython.core.display.HTML object>"
      ]
     },
     "metadata": {
      "tags": []
     },
     "output_type": "display_data"
    },
    {
     "data": {
      "text/html": [
       "\n",
       "                    <br/>Synced <strong style=\"color:#cdcd00\">fragrant-resonance-1</strong>: <a href=\"https://wandb.ai/sajadadgar/sentence_base/runs/3l3bjuvv\" target=\"_blank\">https://wandb.ai/sajadadgar/sentence_base/runs/3l3bjuvv</a><br/>\n",
       "                "
      ],
      "text/plain": [
       "<IPython.core.display.HTML object>"
      ]
     },
     "metadata": {
      "tags": []
     },
     "output_type": "display_data"
    },
    {
     "name": "stderr",
     "output_type": "stream",
     "text": [
      "/usr/local/lib/python3.7/dist-packages/tensorflow/python/keras/engine/sequential.py:450: UserWarning: `model.predict_classes()` is deprecated and will be removed after 2021-01-01. Please use instead:* `np.argmax(model.predict(x), axis=-1)`,   if your model does multi-class classification   (e.g. if it uses a `softmax` last-layer activation).* `(model.predict(x) > 0.5).astype(\"int32\")`,   if your model does binary classification   (e.g. if it uses a `sigmoid` last-layer activation).\n",
      "  warnings.warn('`model.predict_classes()` is deprecated and '\n"
     ]
    },
    {
     "name": "stdout",
     "output_type": "stream",
     "text": [
      "              precision    recall  f1-score   support\n",
      "\n",
      "           0       0.89      0.90      0.90      1907\n",
      "           1       0.90      0.89      0.90      1903\n",
      "\n",
      "    accuracy                           0.90      3810\n",
      "   macro avg       0.90      0.90      0.90      3810\n",
      "weighted avg       0.90      0.90      0.90      3810\n",
      "\n",
      "Accuracy score: 0.8979002624671916\n",
      "Precision score: 0.9018046709129511\n",
      "Recall score: 0.8928008407777194\n"
     ]
    },
    {
     "data": {
      "image/png": "[encoded data removed]",
      "text/plain": [
       "<Figure size 432x288 with 2 Axes>"
      ]
     },
     "metadata": {
      "needs_background": "light",
      "tags": []
     },
     "output_type": "display_data"
    }
   ],
   "source": [
    "clear_session()\n",
    "wandb.init(project='sentence_base', entity='sajadadgar')\n",
    "config = wandb.config\n",
    "config.vocab_size = 242759\n",
    "config.maxlen = max_token\n",
    "config.embedding_dims = 40\n",
    "config.hidden_dims = 128\n",
    "config.epochs = 100\n",
    "\n",
    "model=Sequential()\n",
    "model.add(Embedding(config.vocab_size , config.embedding_dims, input_length=config.maxlen))\n",
    "# model.add(Dropout(0.3))\n",
    "model.add(LSTM(config.hidden_dims, dropout=0.3, recurrent_dropout=0.3))\n",
    "model.add(Dense(1,activation='sigmoid'))\n",
    "model.compile(loss='binary_crossentropy',optimizer='adam',metrics=['accuracy'])\n",
    "print(model.summary())\n",
    "\n",
    "my_callbacks = [\n",
    "    EarlyStopping(patience=10, monitor='val_accuracy', mode='min'),\n",
    "    ModelCheckpoint(\"./saved_models/checkpoints/best_model\", monitor='val_accuracy', verbose=1, save_best_only=True),\n",
    "    WandbCallback()\n",
    "]\n",
    "\n",
    "model.fit(X_train_final, y_train_final, validation_data=(X_test_final, y_test_final), epochs=config.epochs, batch_size=64, callbacks=my_callbacks)\n",
    "\n",
    "wandb.finish()\n",
    "best_model = tf.keras.models.load_model(\"./saved_models/checkpoints/best_model\")\n",
    "prediction = best_model.predict_classes(X_test_final)\n",
    "accuracy = evaluate(y_test_final, prediction)\n",
    "confusion_matrix_plot(confusion_matrix(y_test_final, prediction))"
   ]
  },
  {
   "cell_type": "markdown",
   "metadata": {
    "id": "Lv8vVgU4sCvn"
   },
   "source": [
    "#### Save the model"
   ]
  },
  {
   "cell_type": "code",
   "execution_count": null,
   "metadata": {
    "id": "XNou0KLEsEcT"
   },
   "outputs": [],
   "source": [
    "filename = 'LSTM128_0.3dropout.h5'\n",
    "best_model.save('models/' + filename)"
   ]
  },
  {
   "cell_type": "markdown",
   "metadata": {
    "id": "oNmSlxnUWV0g"
   },
   "source": [
    "## Model 8. Bidirectional LSTM"
   ]
  },
  {
   "cell_type": "code",
   "execution_count": 38,
   "metadata": {
    "colab": {
     "base_uri": "https://localhost:8080/",
     "height": 1000,
     "referenced_widgets": [
      "fbe544614b8f4fc4a42ed80d064d33ee",
      "0299ba0fc59f4cc0a480ef6b54ca2aca",
      "03d200c8738f47b08c7bf8570913889f",
      "d51d63cb81584c65803489cf47232391",
      "7edbcbd1ed3b483bb1d1251ff3d86759",
      "8a7289c697784a94b9f28a6f8f0c4365",
      "2446fcd7f92544b7901a8aa851c465ff",
      "448f9c1f1e1b4e4c991f5ee308375171"
     ]
    },
    "id": "-McuXLyLpXFh",
    "outputId": "68181802-afde-4811-b4de-762fe146c7c1"
   },
   "outputs": [
    {
     "data": {
      "text/html": [
       "\n",
       "                Tracking run with wandb version 0.10.22<br/>\n",
       "                Syncing run <strong style=\"color:#cdcd00\">misty-firebrand-9</strong> to <a href=\"https://wandb.ai\" target=\"_blank\">Weights & Biases</a> <a href=\"https://docs.wandb.com/integrations/jupyter.html\" target=\"_blank\">(Documentation)</a>.<br/>\n",
       "                Project page: <a href=\"https://wandb.ai/sajadadgar/sentence_base\" target=\"_blank\">https://wandb.ai/sajadadgar/sentence_base</a><br/>\n",
       "                Run page: <a href=\"https://wandb.ai/sajadadgar/sentence_base/runs/1g0ltami\" target=\"_blank\">https://wandb.ai/sajadadgar/sentence_base/runs/1g0ltami</a><br/>\n",
       "                Run data is saved locally in <code>/content/wandb/run-20210319_115816-1g0ltami</code><br/><br/>\n",
       "            "
      ],
      "text/plain": [
       "<IPython.core.display.HTML object>"
      ]
     },
     "metadata": {
      "tags": []
     },
     "output_type": "display_data"
    },
    {
     "name": "stdout",
     "output_type": "stream",
     "text": [
      "Model: \"sequential\"\n",
      "_________________________________________________________________\n",
      "Layer (type)                 Output Shape              Param #   \n",
      "=================================================================\n",
      "embedding (Embedding)        (None, 19, 40)            9710360   \n",
      "_________________________________________________________________\n",
      "bidirectional (Bidirectional (None, 256)               173056    \n",
      "_________________________________________________________________\n",
      "dropout (Dropout)            (None, 256)               0         \n",
      "_________________________________________________________________\n",
      "dense (Dense)                (None, 1)                 257       \n",
      "=================================================================\n",
      "Total params: 9,883,673\n",
      "Trainable params: 9,883,673\n",
      "Non-trainable params: 0\n",
      "_________________________________________________________________\n",
      "None\n",
      "Epoch 1/100\n",
      "239/239 [==============================] - 32s 117ms/step - loss: 0.4979 - accuracy: 0.7300 - val_loss: 0.2746 - val_accuracy: 0.8898\n",
      "\n",
      "Epoch 00001: val_accuracy improved from -inf to 0.88976, saving model to ./saved_models/checkpoints/best_model\n"
     ]
    },
    {
     "name": "stderr",
     "output_type": "stream",
     "text": [
      "WARNING:absl:Found untraced functions such as lstm_cell_1_layer_call_fn, lstm_cell_1_layer_call_and_return_conditional_losses, lstm_cell_2_layer_call_fn, lstm_cell_2_layer_call_and_return_conditional_losses, lstm_cell_1_layer_call_fn while saving (showing 5 of 10). These functions will not be directly callable after loading.\n",
      "WARNING:absl:Found untraced functions such as lstm_cell_1_layer_call_fn, lstm_cell_1_layer_call_and_return_conditional_losses, lstm_cell_2_layer_call_fn, lstm_cell_2_layer_call_and_return_conditional_losses, lstm_cell_1_layer_call_fn while saving (showing 5 of 10). These functions will not be directly callable after loading.\n"
     ]
    },
    {
     "name": "stdout",
     "output_type": "stream",
     "text": [
      "INFO:tensorflow:Assets written to: ./saved_models/checkpoints/best_model/assets\n"
     ]
    },
    {
     "name": "stderr",
     "output_type": "stream",
     "text": [
      "INFO:tensorflow:Assets written to: ./saved_models/checkpoints/best_model/assets\n"
     ]
    },
    {
     "name": "stdout",
     "output_type": "stream",
     "text": [
      "Epoch 2/100\n",
      "239/239 [==============================] - 28s 118ms/step - loss: 0.1912 - accuracy: 0.9292 - val_loss: 0.2779 - val_accuracy: 0.8958\n",
      "\n",
      "Epoch 00002: val_accuracy improved from 0.88976 to 0.89580, saving model to ./saved_models/checkpoints/best_model\n"
     ]
    },
    {
     "name": "stderr",
     "output_type": "stream",
     "text": [
      "WARNING:absl:Found untraced functions such as lstm_cell_1_layer_call_fn, lstm_cell_1_layer_call_and_return_conditional_losses, lstm_cell_2_layer_call_fn, lstm_cell_2_layer_call_and_return_conditional_losses, lstm_cell_1_layer_call_fn while saving (showing 5 of 10). These functions will not be directly callable after loading.\n",
      "WARNING:absl:Found untraced functions such as lstm_cell_1_layer_call_fn, lstm_cell_1_layer_call_and_return_conditional_losses, lstm_cell_2_layer_call_fn, lstm_cell_2_layer_call_and_return_conditional_losses, lstm_cell_1_layer_call_fn while saving (showing 5 of 10). These functions will not be directly callable after loading.\n"
     ]
    },
    {
     "name": "stdout",
     "output_type": "stream",
     "text": [
      "INFO:tensorflow:Assets written to: ./saved_models/checkpoints/best_model/assets\n"
     ]
    },
    {
     "name": "stderr",
     "output_type": "stream",
     "text": [
      "INFO:tensorflow:Assets written to: ./saved_models/checkpoints/best_model/assets\n"
     ]
    },
    {
     "name": "stdout",
     "output_type": "stream",
     "text": [
      "Epoch 3/100\n",
      "239/239 [==============================] - 28s 117ms/step - loss: 0.1508 - accuracy: 0.9457 - val_loss: 0.3148 - val_accuracy: 0.8911\n",
      "\n",
      "Epoch 00003: val_accuracy did not improve from 0.89580\n",
      "Epoch 4/100\n",
      "239/239 [==============================] - 28s 117ms/step - loss: 0.0911 - accuracy: 0.9670 - val_loss: 0.3405 - val_accuracy: 0.8887\n",
      "\n",
      "Epoch 00004: val_accuracy did not improve from 0.89580\n",
      "Epoch 5/100\n",
      "239/239 [==============================] - 28s 117ms/step - loss: 0.0766 - accuracy: 0.9763 - val_loss: 0.4098 - val_accuracy: 0.8853\n",
      "\n",
      "Epoch 00005: val_accuracy did not improve from 0.89580\n",
      "Epoch 6/100\n",
      "239/239 [==============================] - 28s 117ms/step - loss: 0.0525 - accuracy: 0.9830 - val_loss: 0.4202 - val_accuracy: 0.8706\n",
      "\n",
      "Epoch 00006: val_accuracy did not improve from 0.89580\n",
      "Epoch 7/100\n",
      "239/239 [==============================] - 28s 117ms/step - loss: 0.0591 - accuracy: 0.9805 - val_loss: 0.4511 - val_accuracy: 0.8785\n",
      "\n",
      "Epoch 00007: val_accuracy did not improve from 0.89580\n",
      "Epoch 8/100\n",
      "239/239 [==============================] - 28s 116ms/step - loss: 0.0405 - accuracy: 0.9865 - val_loss: 0.5028 - val_accuracy: 0.8856\n",
      "\n",
      "Epoch 00008: val_accuracy did not improve from 0.89580\n",
      "Epoch 9/100\n",
      "239/239 [==============================] - 28s 117ms/step - loss: 0.0278 - accuracy: 0.9910 - val_loss: 0.5527 - val_accuracy: 0.8850\n",
      "\n",
      "Epoch 00009: val_accuracy did not improve from 0.89580\n",
      "Epoch 10/100\n",
      "239/239 [==============================] - 28s 118ms/step - loss: 0.0269 - accuracy: 0.9922 - val_loss: 0.5917 - val_accuracy: 0.8819\n",
      "\n",
      "Epoch 00010: val_accuracy did not improve from 0.89580\n",
      "Epoch 11/100\n",
      "239/239 [==============================] - 28s 117ms/step - loss: 0.0215 - accuracy: 0.9930 - val_loss: 0.5894 - val_accuracy: 0.8785\n",
      "\n",
      "Epoch 00011: val_accuracy did not improve from 0.89580\n",
      "Epoch 12/100\n",
      "239/239 [==============================] - 28s 116ms/step - loss: 0.0172 - accuracy: 0.9957 - val_loss: 0.6594 - val_accuracy: 0.8795\n",
      "\n",
      "Epoch 00012: val_accuracy did not improve from 0.89580\n",
      "Epoch 13/100\n",
      "239/239 [==============================] - 28s 117ms/step - loss: 0.0129 - accuracy: 0.9968 - val_loss: 0.7148 - val_accuracy: 0.8782\n",
      "\n",
      "Epoch 00013: val_accuracy did not improve from 0.89580\n",
      "Epoch 14/100\n",
      "239/239 [==============================] - 28s 117ms/step - loss: 0.0171 - accuracy: 0.9959 - val_loss: 0.7639 - val_accuracy: 0.8766\n",
      "\n",
      "Epoch 00014: val_accuracy did not improve from 0.89580\n",
      "Epoch 15/100\n",
      "239/239 [==============================] - 28s 116ms/step - loss: 0.0180 - accuracy: 0.9951 - val_loss: 0.7703 - val_accuracy: 0.8795\n",
      "\n",
      "Epoch 00015: val_accuracy did not improve from 0.89580\n",
      "Epoch 16/100\n",
      "239/239 [==============================] - 28s 117ms/step - loss: 0.0122 - accuracy: 0.9967 - val_loss: 0.6598 - val_accuracy: 0.8743\n",
      "\n",
      "Epoch 00016: val_accuracy did not improve from 0.89580\n"
     ]
    },
    {
     "data": {
      "text/html": [
       "<br/>Waiting for W&B process to finish, PID 2128<br/>Program ended successfully."
      ],
      "text/plain": [
       "<IPython.core.display.HTML object>"
      ]
     },
     "metadata": {
      "tags": []
     },
     "output_type": "display_data"
    },
    {
     "data": {
      "application/vnd.jupyter.widget-view+json": {
       "model_id": "fbe544614b8f4fc4a42ed80d064d33ee",
       "version_major": 2,
       "version_minor": 0
      },
      "text/plain": [
       "VBox(children=(Label(value=' 113.16MB of 113.16MB uploaded (0.00MB deduped)\\r'), FloatProgress(value=1.0, max=…"
      ]
     },
     "metadata": {
      "tags": []
     },
     "output_type": "display_data"
    },
    {
     "data": {
      "text/html": [
       "Find user logs for this run at: <code>/content/wandb/run-20210319_115816-1g0ltami/logs/debug.log</code>"
      ],
      "text/plain": [
       "<IPython.core.display.HTML object>"
      ]
     },
     "metadata": {
      "tags": []
     },
     "output_type": "display_data"
    },
    {
     "data": {
      "text/html": [
       "Find internal logs for this run at: <code>/content/wandb/run-20210319_115816-1g0ltami/logs/debug-internal.log</code>"
      ],
      "text/plain": [
       "<IPython.core.display.HTML object>"
      ]
     },
     "metadata": {
      "tags": []
     },
     "output_type": "display_data"
    },
    {
     "data": {
      "text/html": [
       "<h3>Run summary:</h3><br/><style>\n",
       "    table.wandb td:nth-child(1) { padding: 0 10px; text-align: right }\n",
       "    </style><table class=\"wandb\">\n",
       "<tr><td>epoch</td><td>15</td></tr><tr><td>loss</td><td>0.01684</td></tr><tr><td>accuracy</td><td>0.99488</td></tr><tr><td>val_loss</td><td>0.65979</td></tr><tr><td>val_accuracy</td><td>0.87428</td></tr><tr><td>_runtime</td><td>488</td></tr><tr><td>_timestamp</td><td>1616155584</td></tr><tr><td>_step</td><td>15</td></tr><tr><td>best_val_loss</td><td>0.27463</td></tr><tr><td>best_epoch</td><td>0</td></tr></table>"
      ],
      "text/plain": [
       "<IPython.core.display.HTML object>"
      ]
     },
     "metadata": {
      "tags": []
     },
     "output_type": "display_data"
    },
    {
     "data": {
      "text/html": [
       "<h3>Run history:</h3><br/><style>\n",
       "    table.wandb td:nth-child(1) { padding: 0 10px; text-align: right }\n",
       "    </style><table class=\"wandb\">\n",
       "<tr><td>epoch</td><td>▁▁▂▂▃▃▄▄▅▅▆▆▇▇██</td></tr><tr><td>loss</td><td>█▅▃▃▂▂▂▂▁▁▁▁▁▁▁▁</td></tr><tr><td>accuracy</td><td>▁▅▆▇▇▇▇█████████</td></tr><tr><td>val_loss</td><td>▁▁▂▂▃▃▃▄▅▅▅▆▇██▆</td></tr><tr><td>val_accuracy</td><td>▆█▇▆▅▁▃▅▅▄▃▃▃▃▃▂</td></tr><tr><td>_runtime</td><td>▁▂▂▃▃▄▄▄▅▅▆▆▇▇██</td></tr><tr><td>_timestamp</td><td>▁▂▂▃▃▄▄▄▅▅▆▆▇▇██</td></tr><tr><td>_step</td><td>▁▁▂▂▃▃▄▄▅▅▆▆▇▇██</td></tr></table><br/>"
      ],
      "text/plain": [
       "<IPython.core.display.HTML object>"
      ]
     },
     "metadata": {
      "tags": []
     },
     "output_type": "display_data"
    },
    {
     "data": {
      "text/html": [
       "Synced 5 W&B file(s), 1 media file(s), 0 artifact file(s) and 1 other file(s)"
      ],
      "text/plain": [
       "<IPython.core.display.HTML object>"
      ]
     },
     "metadata": {
      "tags": []
     },
     "output_type": "display_data"
    },
    {
     "data": {
      "text/html": [
       "\n",
       "                    <br/>Synced <strong style=\"color:#cdcd00\">misty-firebrand-9</strong>: <a href=\"https://wandb.ai/sajadadgar/sentence_base/runs/1g0ltami\" target=\"_blank\">https://wandb.ai/sajadadgar/sentence_base/runs/1g0ltami</a><br/>\n",
       "                "
      ],
      "text/plain": [
       "<IPython.core.display.HTML object>"
      ]
     },
     "metadata": {
      "tags": []
     },
     "output_type": "display_data"
    },
    {
     "name": "stderr",
     "output_type": "stream",
     "text": [
      "/usr/local/lib/python3.7/dist-packages/tensorflow/python/keras/engine/sequential.py:450: UserWarning: `model.predict_classes()` is deprecated and will be removed after 2021-01-01. Please use instead:* `np.argmax(model.predict(x), axis=-1)`,   if your model does multi-class classification   (e.g. if it uses a `softmax` last-layer activation).* `(model.predict(x) > 0.5).astype(\"int32\")`,   if your model does binary classification   (e.g. if it uses a `sigmoid` last-layer activation).\n",
      "  warnings.warn('`model.predict_classes()` is deprecated and '\n"
     ]
    },
    {
     "name": "stdout",
     "output_type": "stream",
     "text": [
      "              precision    recall  f1-score   support\n",
      "\n",
      "           0       0.90      0.90      0.90      1969\n",
      "           1       0.90      0.89      0.89      1841\n",
      "\n",
      "    accuracy                           0.90      3810\n",
      "   macro avg       0.90      0.90      0.90      3810\n",
      "weighted avg       0.90      0.90      0.90      3810\n",
      "\n",
      "Accuracy score: 0.8958005249343832\n",
      "Precision score: 0.8958333333333334\n",
      "Recall score: 0.8875611080934275\n"
     ]
    },
    {
     "data": {
      "image/png": "[encoded data removed]",
      "text/plain": [
       "<Figure size 432x288 with 2 Axes>"
      ]
     },
     "metadata": {
      "needs_background": "light",
      "tags": []
     },
     "output_type": "display_data"
    }
   ],
   "source": [
    "clear_session()\n",
    "wandb.init(project='sentence_base', entity='sajadadgar')\n",
    "config = wandb.config\n",
    "config.vocab_size = 242759\n",
    "config.maxlen = max_token\n",
    "config.embedding_dims = 40\n",
    "config.hidden_dims = 128\n",
    "config.epochs = 100\n",
    "\n",
    "model=Sequential()\n",
    "model.add(Embedding(config.vocab_size,config.embedding_dims,input_length=config.maxlen))\n",
    "model.add(Bidirectional(LSTM(config.hidden_dims)))\n",
    "model.add(Dropout(0.2))\n",
    "model.add(Dense(1,activation='sigmoid'))\n",
    "model.compile(loss='binary_crossentropy',optimizer='adam',metrics=['accuracy'])\n",
    "print(model.summary())\n",
    "\n",
    "my_callbacks = [\n",
    "    EarlyStopping(patience=10, monitor='val_accuracy', mode='min'),\n",
    "    ModelCheckpoint(\"./saved_models/checkpoints/best_model\", monitor='val_accuracy', verbose=1, save_best_only=True),\n",
    "    WandbCallback()\n",
    "]\n",
    "\n",
    "model.fit(X_train_final, y_train_final, validation_data=(X_test_final, y_test_final), epochs=config.epochs, batch_size=64, callbacks=my_callbacks)\n",
    "\n",
    "wandb.finish()\n",
    "best_model = tf.keras.models.load_model(\"./saved_models/checkpoints/best_model\")\n",
    "prediction = best_model.predict_classes(X_test_final)\n",
    "accuracy = evaluate(y_test_final, prediction)\n",
    "confusion_matrix_plot(confusion_matrix(y_test_final, prediction))"
   ]
  },
  {
   "cell_type": "markdown",
   "metadata": {
    "id": "iCvDnn-LWWng"
   },
   "source": [
    "### Save the model"
   ]
  },
  {
   "cell_type": "code",
   "execution_count": 39,
   "metadata": {
    "id": "lQgivMM7WYdf"
   },
   "outputs": [],
   "source": [
    "filename = 'Bidirectional_LSTM128_0.2dropout.h5'\n",
    "best_model.save('models/' + filename)"
   ]
  },
  {
   "cell_type": "markdown",
   "metadata": {
    "id": "14XU8JjaaMOS"
   },
   "source": [
    "## Model 9. CNN"
   ]
  },
  {
   "cell_type": "code",
   "execution_count": 43,
   "metadata": {
    "colab": {
     "base_uri": "https://localhost:8080/",
     "height": 1000,
     "referenced_widgets": [
      "b7685c0c4baf4b4192e529f887d8ac1d",
      "33c8a03213584901b19f06c50ebf10a8",
      "e7d9941f553645e093667e09ce51681a",
      "e254f05b4feb46909de240aca1be73a3",
      "c89f72c5fa7c4c58a0d247abe97b59fc",
      "2fce483dcc4040cc95cd7f8ebcec365a",
      "a118cf86dbff47f19a9c6c3355908584",
      "b2c34c389cac45e59f48f94669d9520e"
     ]
    },
    "id": "l8VgZ0SubUbh",
    "outputId": "24de430c-a056-471c-c0f0-a4b60b00362f"
   },
   "outputs": [
    {
     "data": {
      "text/html": [
       "\n",
       "                Tracking run with wandb version 0.10.22<br/>\n",
       "                Syncing run <strong style=\"color:#cdcd00\">celestial-sun-12</strong> to <a href=\"https://wandb.ai\" target=\"_blank\">Weights & Biases</a> <a href=\"https://docs.wandb.com/integrations/jupyter.html\" target=\"_blank\">(Documentation)</a>.<br/>\n",
       "                Project page: <a href=\"https://wandb.ai/sajadadgar/sentence_base\" target=\"_blank\">https://wandb.ai/sajadadgar/sentence_base</a><br/>\n",
       "                Run page: <a href=\"https://wandb.ai/sajadadgar/sentence_base/runs/1ve4o8e4\" target=\"_blank\">https://wandb.ai/sajadadgar/sentence_base/runs/1ve4o8e4</a><br/>\n",
       "                Run data is saved locally in <code>/content/wandb/run-20210319_122003-1ve4o8e4</code><br/><br/>\n",
       "            "
      ],
      "text/plain": [
       "<IPython.core.display.HTML object>"
      ]
     },
     "metadata": {
      "tags": []
     },
     "output_type": "display_data"
    },
    {
     "name": "stdout",
     "output_type": "stream",
     "text": [
      "Model: \"sequential\"\n",
      "_________________________________________________________________\n",
      "Layer (type)                 Output Shape              Param #   \n",
      "=================================================================\n",
      "embedding (Embedding)        (None, 50, 40)            9710360   \n",
      "_________________________________________________________________\n",
      "conv1d (Conv1D)              (None, 46, 64)            12864     \n",
      "_________________________________________________________________\n",
      "dropout (Dropout)            (None, 46, 64)            0         \n",
      "_________________________________________________________________\n",
      "global_max_pooling1d (Global (None, 64)                0         \n",
      "_________________________________________________________________\n",
      "dropout_1 (Dropout)          (None, 64)                0         \n",
      "_________________________________________________________________\n",
      "dense (Dense)                (None, 10)                650       \n",
      "_________________________________________________________________\n",
      "dense_1 (Dense)              (None, 1)                 11        \n",
      "=================================================================\n",
      "Total params: 9,723,885\n",
      "Trainable params: 9,723,885\n",
      "Non-trainable params: 0\n",
      "_________________________________________________________________\n",
      "None\n",
      "Epoch 1/100\n",
      "WARNING:tensorflow:Model was constructed with shape (None, 50) for input KerasTensor(type_spec=TensorSpec(shape=(None, 50), dtype=tf.float32, name='embedding_input'), name='embedding_input', description=\"created by layer 'embedding_input'\"), but it was called on an input with incompatible shape (None, 19).\n"
     ]
    },
    {
     "name": "stderr",
     "output_type": "stream",
     "text": [
      "WARNING:tensorflow:Model was constructed with shape (None, 50) for input KerasTensor(type_spec=TensorSpec(shape=(None, 50), dtype=tf.float32, name='embedding_input'), name='embedding_input', description=\"created by layer 'embedding_input'\"), but it was called on an input with incompatible shape (None, 19).\n"
     ]
    },
    {
     "name": "stdout",
     "output_type": "stream",
     "text": [
      "WARNING:tensorflow:Model was constructed with shape (None, 50) for input KerasTensor(type_spec=TensorSpec(shape=(None, 50), dtype=tf.float32, name='embedding_input'), name='embedding_input', description=\"created by layer 'embedding_input'\"), but it was called on an input with incompatible shape (None, 19).\n"
     ]
    },
    {
     "name": "stderr",
     "output_type": "stream",
     "text": [
      "WARNING:tensorflow:Model was constructed with shape (None, 50) for input KerasTensor(type_spec=TensorSpec(shape=(None, 50), dtype=tf.float32, name='embedding_input'), name='embedding_input', description=\"created by layer 'embedding_input'\"), but it was called on an input with incompatible shape (None, 19).\n"
     ]
    },
    {
     "name": "stdout",
     "output_type": "stream",
     "text": [
      "239/239 [==============================] - ETA: 0s - loss: 0.5716 - accuracy: 0.6941WARNING:tensorflow:Model was constructed with shape (None, 50) for input KerasTensor(type_spec=TensorSpec(shape=(None, 50), dtype=tf.float32, name='embedding_input'), name='embedding_input', description=\"created by layer 'embedding_input'\"), but it was called on an input with incompatible shape (None, 19).\n"
     ]
    },
    {
     "name": "stderr",
     "output_type": "stream",
     "text": [
      "WARNING:tensorflow:Model was constructed with shape (None, 50) for input KerasTensor(type_spec=TensorSpec(shape=(None, 50), dtype=tf.float32, name='embedding_input'), name='embedding_input', description=\"created by layer 'embedding_input'\"), but it was called on an input with incompatible shape (None, 19).\n"
     ]
    },
    {
     "name": "stdout",
     "output_type": "stream",
     "text": [
      "\b\b\b\b\b\b\b\b\b\b\b\b\b\b\b\b\b\b\b\b\b\b\b\b\b\b\b\b\b\b\b\b\b\b\b\b\b\b\b\b\b\b\b\b\b\b\b\b\b\b\b\b\b\b\b\b\b\b\b\b\b\b\b\b\b\b\b\b\b\b\b\b\b\b\b\b\b\b\b\b\b\b\b\b\r",
      "239/239 [==============================] - 17s 67ms/step - loss: 0.5711 - accuracy: 0.6945 - val_loss: 0.2853 - val_accuracy: 0.8898\n",
      "\n",
      "Epoch 00001: val_accuracy improved from -inf to 0.88976, saving model to ./saved_models/checkpoints/best_model\n",
      "INFO:tensorflow:Assets written to: ./saved_models/checkpoints/best_model/assets\n"
     ]
    },
    {
     "name": "stderr",
     "output_type": "stream",
     "text": [
      "INFO:tensorflow:Assets written to: ./saved_models/checkpoints/best_model/assets\n"
     ]
    },
    {
     "name": "stdout",
     "output_type": "stream",
     "text": [
      "Epoch 2/100\n",
      "239/239 [==============================] - 17s 70ms/step - loss: 0.2114 - accuracy: 0.9213 - val_loss: 0.2663 - val_accuracy: 0.8948\n",
      "\n",
      "Epoch 00002: val_accuracy improved from 0.88976 to 0.89475, saving model to ./saved_models/checkpoints/best_model\n",
      "INFO:tensorflow:Assets written to: ./saved_models/checkpoints/best_model/assets\n"
     ]
    },
    {
     "name": "stderr",
     "output_type": "stream",
     "text": [
      "INFO:tensorflow:Assets written to: ./saved_models/checkpoints/best_model/assets\n"
     ]
    },
    {
     "name": "stdout",
     "output_type": "stream",
     "text": [
      "Epoch 3/100\n",
      "239/239 [==============================] - 15s 64ms/step - loss: 0.1405 - accuracy: 0.9542 - val_loss: 0.2829 - val_accuracy: 0.8906\n",
      "\n",
      "Epoch 00003: val_accuracy did not improve from 0.89475\n",
      "Epoch 4/100\n",
      "239/239 [==============================] - 15s 61ms/step - loss: 0.0804 - accuracy: 0.9738 - val_loss: 0.3144 - val_accuracy: 0.8898\n",
      "\n",
      "Epoch 00004: val_accuracy did not improve from 0.89475\n",
      "Epoch 5/100\n",
      "239/239 [==============================] - 15s 61ms/step - loss: 0.0491 - accuracy: 0.9859 - val_loss: 0.3590 - val_accuracy: 0.8885\n",
      "\n",
      "Epoch 00005: val_accuracy did not improve from 0.89475\n",
      "Epoch 6/100\n",
      "239/239 [==============================] - 15s 61ms/step - loss: 0.0292 - accuracy: 0.9914 - val_loss: 0.4088 - val_accuracy: 0.8871\n",
      "\n",
      "Epoch 00006: val_accuracy did not improve from 0.89475\n",
      "Epoch 7/100\n",
      "239/239 [==============================] - 15s 61ms/step - loss: 0.0181 - accuracy: 0.9949 - val_loss: 0.4577 - val_accuracy: 0.8861\n",
      "\n",
      "Epoch 00007: val_accuracy did not improve from 0.89475\n",
      "Epoch 8/100\n",
      "239/239 [==============================] - 15s 61ms/step - loss: 0.0128 - accuracy: 0.9958 - val_loss: 0.5035 - val_accuracy: 0.8864\n",
      "\n",
      "Epoch 00008: val_accuracy did not improve from 0.89475\n",
      "Epoch 9/100\n",
      "239/239 [==============================] - 15s 61ms/step - loss: 0.0092 - accuracy: 0.9976 - val_loss: 0.5558 - val_accuracy: 0.8892\n",
      "\n",
      "Epoch 00009: val_accuracy did not improve from 0.89475\n",
      "Epoch 10/100\n",
      "239/239 [==============================] - 15s 62ms/step - loss: 0.0065 - accuracy: 0.9978 - val_loss: 0.5965 - val_accuracy: 0.8871\n",
      "\n",
      "Epoch 00010: val_accuracy did not improve from 0.89475\n",
      "Epoch 11/100\n",
      "239/239 [==============================] - 15s 62ms/step - loss: 0.0068 - accuracy: 0.9973 - val_loss: 0.6409 - val_accuracy: 0.8861\n",
      "\n",
      "Epoch 00011: val_accuracy did not improve from 0.89475\n",
      "Epoch 12/100\n",
      "239/239 [==============================] - 15s 62ms/step - loss: 0.0047 - accuracy: 0.9981 - val_loss: 0.6703 - val_accuracy: 0.8864\n",
      "\n",
      "Epoch 00012: val_accuracy did not improve from 0.89475\n",
      "Epoch 13/100\n",
      "239/239 [==============================] - 15s 62ms/step - loss: 0.0071 - accuracy: 0.9974 - val_loss: 0.6802 - val_accuracy: 0.8832\n",
      "\n",
      "Epoch 00013: val_accuracy did not improve from 0.89475\n",
      "Epoch 14/100\n",
      "239/239 [==============================] - 15s 62ms/step - loss: 0.0082 - accuracy: 0.9977 - val_loss: 0.7036 - val_accuracy: 0.8871\n",
      "\n",
      "Epoch 00014: val_accuracy did not improve from 0.89475\n",
      "Epoch 15/100\n",
      "239/239 [==============================] - 15s 61ms/step - loss: 0.0053 - accuracy: 0.9987 - val_loss: 0.7110 - val_accuracy: 0.8850\n",
      "\n",
      "Epoch 00015: val_accuracy did not improve from 0.89475\n",
      "Epoch 16/100\n",
      "239/239 [==============================] - 15s 62ms/step - loss: 0.0093 - accuracy: 0.9971 - val_loss: 0.7399 - val_accuracy: 0.8835\n",
      "\n",
      "Epoch 00016: val_accuracy did not improve from 0.89475\n",
      "Epoch 17/100\n",
      "239/239 [==============================] - 15s 61ms/step - loss: 0.0075 - accuracy: 0.9977 - val_loss: 0.7518 - val_accuracy: 0.8837\n",
      "\n",
      "Epoch 00017: val_accuracy did not improve from 0.89475\n",
      "Epoch 18/100\n",
      "239/239 [==============================] - 15s 61ms/step - loss: 0.0053 - accuracy: 0.9978 - val_loss: 0.7786 - val_accuracy: 0.8843\n",
      "\n",
      "Epoch 00018: val_accuracy did not improve from 0.89475\n",
      "Epoch 19/100\n",
      "239/239 [==============================] - 15s 61ms/step - loss: 0.0033 - accuracy: 0.9992 - val_loss: 0.8199 - val_accuracy: 0.8848\n",
      "\n",
      "Epoch 00019: val_accuracy did not improve from 0.89475\n",
      "Epoch 20/100\n",
      "239/239 [==============================] - 15s 62ms/step - loss: 0.0045 - accuracy: 0.9981 - val_loss: 0.8354 - val_accuracy: 0.8845\n",
      "\n",
      "Epoch 00020: val_accuracy did not improve from 0.89475\n",
      "Epoch 21/100\n",
      "239/239 [==============================] - 15s 61ms/step - loss: 0.0027 - accuracy: 0.9992 - val_loss: 0.8564 - val_accuracy: 0.8845\n",
      "\n",
      "Epoch 00021: val_accuracy did not improve from 0.89475\n",
      "Epoch 22/100\n",
      "239/239 [==============================] - 15s 61ms/step - loss: 0.0047 - accuracy: 0.9984 - val_loss: 0.8547 - val_accuracy: 0.8843\n",
      "\n",
      "Epoch 00022: val_accuracy did not improve from 0.89475\n",
      "Epoch 23/100\n",
      "239/239 [==============================] - 15s 62ms/step - loss: 0.0051 - accuracy: 0.9979 - val_loss: 0.9026 - val_accuracy: 0.8837\n",
      "\n",
      "Epoch 00023: val_accuracy did not improve from 0.89475\n"
     ]
    },
    {
     "data": {
      "text/html": [
       "<br/>Waiting for W&B process to finish, PID 2531<br/>Program ended successfully."
      ],
      "text/plain": [
       "<IPython.core.display.HTML object>"
      ]
     },
     "metadata": {
      "tags": []
     },
     "output_type": "display_data"
    },
    {
     "data": {
      "application/vnd.jupyter.widget-view+json": {
       "model_id": "b7685c0c4baf4b4192e529f887d8ac1d",
       "version_major": 2,
       "version_minor": 0
      },
      "text/plain": [
       "VBox(children=(Label(value=' 111.32MB of 111.32MB uploaded (0.00MB deduped)\\r'), FloatProgress(value=1.0, max=…"
      ]
     },
     "metadata": {
      "tags": []
     },
     "output_type": "display_data"
    },
    {
     "data": {
      "text/html": [
       "Find user logs for this run at: <code>/content/wandb/run-20210319_122003-1ve4o8e4/logs/debug.log</code>"
      ],
      "text/plain": [
       "<IPython.core.display.HTML object>"
      ]
     },
     "metadata": {
      "tags": []
     },
     "output_type": "display_data"
    },
    {
     "data": {
      "text/html": [
       "Find internal logs for this run at: <code>/content/wandb/run-20210319_122003-1ve4o8e4/logs/debug-internal.log</code>"
      ],
      "text/plain": [
       "<IPython.core.display.HTML object>"
      ]
     },
     "metadata": {
      "tags": []
     },
     "output_type": "display_data"
    },
    {
     "data": {
      "text/html": [
       "<h3>Run summary:</h3><br/><style>\n",
       "    table.wandb td:nth-child(1) { padding: 0 10px; text-align: right }\n",
       "    </style><table class=\"wandb\">\n",
       "<tr><td>epoch</td><td>22</td></tr><tr><td>loss</td><td>0.00492</td></tr><tr><td>accuracy</td><td>0.99829</td></tr><tr><td>val_loss</td><td>0.90263</td></tr><tr><td>val_accuracy</td><td>0.88373</td></tr><tr><td>_runtime</td><td>352</td></tr><tr><td>_timestamp</td><td>1616156755</td></tr><tr><td>_step</td><td>22</td></tr><tr><td>best_val_loss</td><td>0.26632</td></tr><tr><td>best_epoch</td><td>1</td></tr></table>"
      ],
      "text/plain": [
       "<IPython.core.display.HTML object>"
      ]
     },
     "metadata": {
      "tags": []
     },
     "output_type": "display_data"
    },
    {
     "data": {
      "text/html": [
       "<h3>Run history:</h3><br/><style>\n",
       "    table.wandb td:nth-child(1) { padding: 0 10px; text-align: right }\n",
       "    </style><table class=\"wandb\">\n",
       "<tr><td>epoch</td><td>▁▁▂▂▂▃▃▃▄▄▄▅▅▅▅▆▆▆▇▇▇██</td></tr><tr><td>loss</td><td>█▄▃▂▂▁▁▁▁▁▁▁▁▁▁▁▁▁▁▁▁▁▁</td></tr><tr><td>accuracy</td><td>▁▅▆▇▇██████████████████</td></tr><tr><td>val_loss</td><td>▁▁▁▂▂▃▃▄▄▅▅▅▆▆▆▆▆▇▇▇▇▇█</td></tr><tr><td>val_accuracy</td><td>▅█▅▅▄▃▃▃▅▃▃▃▁▃▂▁▁▂▂▂▂▂▁</td></tr><tr><td>_runtime</td><td>▁▁▂▂▂▃▃▃▄▄▄▅▅▅▅▆▆▆▇▇▇██</td></tr><tr><td>_timestamp</td><td>▁▁▂▂▂▃▃▃▄▄▄▅▅▅▅▆▆▆▇▇▇██</td></tr><tr><td>_step</td><td>▁▁▂▂▂▃▃▃▄▄▄▅▅▅▅▆▆▆▇▇▇██</td></tr></table><br/>"
      ],
      "text/plain": [
       "<IPython.core.display.HTML object>"
      ]
     },
     "metadata": {
      "tags": []
     },
     "output_type": "display_data"
    },
    {
     "data": {
      "text/html": [
       "Synced 5 W&B file(s), 1 media file(s), 0 artifact file(s) and 1 other file(s)"
      ],
      "text/plain": [
       "<IPython.core.display.HTML object>"
      ]
     },
     "metadata": {
      "tags": []
     },
     "output_type": "display_data"
    },
    {
     "data": {
      "text/html": [
       "\n",
       "                    <br/>Synced <strong style=\"color:#cdcd00\">celestial-sun-12</strong>: <a href=\"https://wandb.ai/sajadadgar/sentence_base/runs/1ve4o8e4\" target=\"_blank\">https://wandb.ai/sajadadgar/sentence_base/runs/1ve4o8e4</a><br/>\n",
       "                "
      ],
      "text/plain": [
       "<IPython.core.display.HTML object>"
      ]
     },
     "metadata": {
      "tags": []
     },
     "output_type": "display_data"
    },
    {
     "name": "stdout",
     "output_type": "stream",
     "text": [
      "WARNING:tensorflow:Model was constructed with shape (None, 50) for input KerasTensor(type_spec=TensorSpec(shape=(None, 50), dtype=tf.float32, name='embedding_input'), name='embedding_input', description=\"created by layer 'embedding_input'\"), but it was called on an input with incompatible shape (None, 19).\n"
     ]
    },
    {
     "name": "stderr",
     "output_type": "stream",
     "text": [
      "/usr/local/lib/python3.7/dist-packages/tensorflow/python/keras/engine/sequential.py:450: UserWarning: `model.predict_classes()` is deprecated and will be removed after 2021-01-01. Please use instead:* `np.argmax(model.predict(x), axis=-1)`,   if your model does multi-class classification   (e.g. if it uses a `softmax` last-layer activation).* `(model.predict(x) > 0.5).astype(\"int32\")`,   if your model does binary classification   (e.g. if it uses a `sigmoid` last-layer activation).\n",
      "  warnings.warn('`model.predict_classes()` is deprecated and '\n",
      "WARNING:tensorflow:Model was constructed with shape (None, 50) for input KerasTensor(type_spec=TensorSpec(shape=(None, 50), dtype=tf.float32, name='embedding_input'), name='embedding_input', description=\"created by layer 'embedding_input'\"), but it was called on an input with incompatible shape (None, 19).\n"
     ]
    },
    {
     "name": "stdout",
     "output_type": "stream",
     "text": [
      "              precision    recall  f1-score   support\n",
      "\n",
      "           0       0.90      0.90      0.90      1969\n",
      "           1       0.89      0.89      0.89      1841\n",
      "\n",
      "    accuracy                           0.89      3810\n",
      "   macro avg       0.89      0.89      0.89      3810\n",
      "weighted avg       0.89      0.89      0.89      3810\n",
      "\n",
      "Accuracy score: 0.894750656167979\n",
      "Precision score: 0.8887688984881209\n",
      "Recall score: 0.8940793047256925\n"
     ]
    },
    {
     "data": {
      "image/png": "[encoded data removed]",
      "text/plain": [
       "<Figure size 432x288 with 2 Axes>"
      ]
     },
     "metadata": {
      "needs_background": "light",
      "tags": []
     },
     "output_type": "display_data"
    }
   ],
   "source": [
    "clear_session()\n",
    "wandb.init(project='sentence_base', entity='sajadadgar')\n",
    "config = wandb.config\n",
    "config.vocab_size = 242759\n",
    "config.maxlen = 50\n",
    "config.embedding_dims = 40\n",
    "config.hidden_dims = 64\n",
    "config.epochs = 100\n",
    "\n",
    "model = Sequential()\n",
    "model.add(Embedding(config.vocab_size,config.embedding_dims,input_length=config.maxlen))\n",
    "model.add(Conv1D(config.hidden_dims, 5, activation='relu'))\n",
    "# model.add(Dropout(0.2))\n",
    "model.add(GlobalMaxPooling1D())\n",
    "model.add(Dropout(0.2))\n",
    "model.add(Dense(10, activation='relu'))\n",
    "model.add(Dense(1, activation='sigmoid'))\n",
    "model.compile(optimizer='adam', loss='binary_crossentropy', metrics=['accuracy'])\n",
    "print(model.summary())\n",
    "\n",
    "\n",
    "my_callbacks = [\n",
    "    EarlyStopping(patience=10, monitor='val_accuracy', mode='min'),\n",
    "    ModelCheckpoint(\"./saved_models/checkpoints/best_model\", monitor='val_accuracy', verbose=1, save_best_only=True),\n",
    "    WandbCallback()\n",
    "]\n",
    "\n",
    "model.fit(X_train_final, y_train_final, validation_data=(X_test_final,y_test_final), epochs=config.epochs, batch_size=64, callbacks=my_callbacks)\n",
    "\n",
    "wandb.finish()\n",
    "best_model = tf.keras.models.load_model(\"./saved_models/checkpoints/best_model\")\n",
    "prediction = best_model.predict_classes(X_test_final)\n",
    "accuracy = evaluate(y_test_final, prediction)\n",
    "confusion_matrix_plot(confusion_matrix(y_test_final, prediction))"
   ]
  },
  {
   "cell_type": "markdown",
   "metadata": {
    "id": "r9h8FWpAaSet"
   },
   "source": [
    "### Save the model"
   ]
  },
  {
   "cell_type": "code",
   "execution_count": 44,
   "metadata": {
    "id": "3YdIFr8_aUOI"
   },
   "outputs": [],
   "source": [
    "filename = 'CNN64_0.2dropout.h5'\n",
    "best_model.save('models/' + filename)"
   ]
  },
  {
   "cell_type": "markdown",
   "metadata": {
    "id": "OZYJiG0KdLXH"
   },
   "source": [
    "## Model 10. CNN + LSTM"
   ]
  },
  {
   "cell_type": "code",
   "execution_count": 45,
   "metadata": {
    "colab": {
     "base_uri": "https://localhost:8080/",
     "height": 1000,
     "referenced_widgets": [
      "b8fbff32f32a4e63bb2cfb87321ba101",
      "57b2e8e4d6984b85a147a8293250703c",
      "63260bccbb8841069ce611dab5546190",
      "07fd47efe25e469c9302ae64bdb7d64c",
      "cafeeb4554ee4b18a9cb9b02a14f471c",
      "fa085bf88bb94b4e945562135472687d",
      "01120ec5267d403b99f3130025f47a22",
      "230581acb846426b9d9532e2fcdd58b0"
     ]
    },
    "id": "KN6HcnvFdMNu",
    "outputId": "3c92221b-b9bc-48a0-8a52-2c7779103488"
   },
   "outputs": [
    {
     "data": {
      "text/html": [
       "\n",
       "                Tracking run with wandb version 0.10.22<br/>\n",
       "                Syncing run <strong style=\"color:#cdcd00\">iconic-universe-13</strong> to <a href=\"https://wandb.ai\" target=\"_blank\">Weights & Biases</a> <a href=\"https://docs.wandb.com/integrations/jupyter.html\" target=\"_blank\">(Documentation)</a>.<br/>\n",
       "                Project page: <a href=\"https://wandb.ai/sajadadgar/sentence_base\" target=\"_blank\">https://wandb.ai/sajadadgar/sentence_base</a><br/>\n",
       "                Run page: <a href=\"https://wandb.ai/sajadadgar/sentence_base/runs/1a5rg9je\" target=\"_blank\">https://wandb.ai/sajadadgar/sentence_base/runs/1a5rg9je</a><br/>\n",
       "                Run data is saved locally in <code>/content/wandb/run-20210319_122823-1a5rg9je</code><br/><br/>\n",
       "            "
      ],
      "text/plain": [
       "<IPython.core.display.HTML object>"
      ]
     },
     "metadata": {
      "tags": []
     },
     "output_type": "display_data"
    },
    {
     "name": "stdout",
     "output_type": "stream",
     "text": [
      "Model: \"sequential\"\n",
      "_________________________________________________________________\n",
      "Layer (type)                 Output Shape              Param #   \n",
      "=================================================================\n",
      "embedding (Embedding)        (None, 50, 40)            9710360   \n",
      "_________________________________________________________________\n",
      "conv1d (Conv1D)              (None, 46, 128)           25728     \n",
      "_________________________________________________________________\n",
      "dropout (Dropout)            (None, 46, 128)           0         \n",
      "_________________________________________________________________\n",
      "max_pooling1d (MaxPooling1D) (None, 23, 128)           0         \n",
      "_________________________________________________________________\n",
      "dropout_1 (Dropout)          (None, 23, 128)           0         \n",
      "_________________________________________________________________\n",
      "lstm (LSTM)                  (None, 64)                49408     \n",
      "_________________________________________________________________\n",
      "dropout_2 (Dropout)          (None, 64)                0         \n",
      "_________________________________________________________________\n",
      "dense (Dense)                (None, 1)                 65        \n",
      "=================================================================\n",
      "Total params: 9,785,561\n",
      "Trainable params: 9,785,561\n",
      "Non-trainable params: 0\n",
      "_________________________________________________________________\n",
      "None\n",
      "Epoch 1/100\n",
      "WARNING:tensorflow:Model was constructed with shape (None, 50) for input KerasTensor(type_spec=TensorSpec(shape=(None, 50), dtype=tf.float32, name='embedding_input'), name='embedding_input', description=\"created by layer 'embedding_input'\"), but it was called on an input with incompatible shape (None, 19).\n"
     ]
    },
    {
     "name": "stderr",
     "output_type": "stream",
     "text": [
      "WARNING:tensorflow:Model was constructed with shape (None, 50) for input KerasTensor(type_spec=TensorSpec(shape=(None, 50), dtype=tf.float32, name='embedding_input'), name='embedding_input', description=\"created by layer 'embedding_input'\"), but it was called on an input with incompatible shape (None, 19).\n"
     ]
    },
    {
     "name": "stdout",
     "output_type": "stream",
     "text": [
      "WARNING:tensorflow:Model was constructed with shape (None, 50) for input KerasTensor(type_spec=TensorSpec(shape=(None, 50), dtype=tf.float32, name='embedding_input'), name='embedding_input', description=\"created by layer 'embedding_input'\"), but it was called on an input with incompatible shape (None, 19).\n"
     ]
    },
    {
     "name": "stderr",
     "output_type": "stream",
     "text": [
      "WARNING:tensorflow:Model was constructed with shape (None, 50) for input KerasTensor(type_spec=TensorSpec(shape=(None, 50), dtype=tf.float32, name='embedding_input'), name='embedding_input', description=\"created by layer 'embedding_input'\"), but it was called on an input with incompatible shape (None, 19).\n"
     ]
    },
    {
     "name": "stdout",
     "output_type": "stream",
     "text": [
      "239/239 [==============================] - ETA: 0s - loss: 0.5212 - accuracy: 0.7168WARNING:tensorflow:Model was constructed with shape (None, 50) for input KerasTensor(type_spec=TensorSpec(shape=(None, 50), dtype=tf.float32, name='embedding_input'), name='embedding_input', description=\"created by layer 'embedding_input'\"), but it was called on an input with incompatible shape (None, 19).\n"
     ]
    },
    {
     "name": "stderr",
     "output_type": "stream",
     "text": [
      "WARNING:tensorflow:Model was constructed with shape (None, 50) for input KerasTensor(type_spec=TensorSpec(shape=(None, 50), dtype=tf.float32, name='embedding_input'), name='embedding_input', description=\"created by layer 'embedding_input'\"), but it was called on an input with incompatible shape (None, 19).\n"
     ]
    },
    {
     "name": "stdout",
     "output_type": "stream",
     "text": [
      "\b\b\b\b\b\b\b\b\b\b\b\b\b\b\b\b\b\b\b\b\b\b\b\b\b\b\b\b\b\b\b\b\b\b\b\b\b\b\b\b\b\b\b\b\b\b\b\b\b\b\b\b\b\b\b\b\b\b\b\b\b\b\b\b\b\b\b\b\b\b\b\b\b\b\b\b\b\b\b\b\b\b\b\b\r",
      "239/239 [==============================] - 20s 73ms/step - loss: 0.5207 - accuracy: 0.7172 - val_loss: 0.3085 - val_accuracy: 0.8701\n",
      "\n",
      "Epoch 00001: val_accuracy improved from -inf to 0.87008, saving model to ./saved_models/checkpoints/best_model\n"
     ]
    },
    {
     "name": "stderr",
     "output_type": "stream",
     "text": [
      "WARNING:absl:Found untraced functions such as lstm_cell_layer_call_fn, lstm_cell_layer_call_and_return_conditional_losses, lstm_cell_layer_call_fn, lstm_cell_layer_call_and_return_conditional_losses, lstm_cell_layer_call_and_return_conditional_losses while saving (showing 5 of 5). These functions will not be directly callable after loading.\n",
      "WARNING:absl:Found untraced functions such as lstm_cell_layer_call_fn, lstm_cell_layer_call_and_return_conditional_losses, lstm_cell_layer_call_fn, lstm_cell_layer_call_and_return_conditional_losses, lstm_cell_layer_call_and_return_conditional_losses while saving (showing 5 of 5). These functions will not be directly callable after loading.\n"
     ]
    },
    {
     "name": "stdout",
     "output_type": "stream",
     "text": [
      "INFO:tensorflow:Assets written to: ./saved_models/checkpoints/best_model/assets\n"
     ]
    },
    {
     "name": "stderr",
     "output_type": "stream",
     "text": [
      "INFO:tensorflow:Assets written to: ./saved_models/checkpoints/best_model/assets\n"
     ]
    },
    {
     "name": "stdout",
     "output_type": "stream",
     "text": [
      "Epoch 2/100\n",
      "239/239 [==============================] - 22s 93ms/step - loss: 0.2199 - accuracy: 0.9136 - val_loss: 0.3057 - val_accuracy: 0.8769\n",
      "\n",
      "Epoch 00002: val_accuracy improved from 0.87008 to 0.87690, saving model to ./saved_models/checkpoints/best_model\n"
     ]
    },
    {
     "name": "stderr",
     "output_type": "stream",
     "text": [
      "WARNING:absl:Found untraced functions such as lstm_cell_layer_call_fn, lstm_cell_layer_call_and_return_conditional_losses, lstm_cell_layer_call_fn, lstm_cell_layer_call_and_return_conditional_losses, lstm_cell_layer_call_and_return_conditional_losses while saving (showing 5 of 5). These functions will not be directly callable after loading.\n",
      "WARNING:absl:Found untraced functions such as lstm_cell_layer_call_fn, lstm_cell_layer_call_and_return_conditional_losses, lstm_cell_layer_call_fn, lstm_cell_layer_call_and_return_conditional_losses, lstm_cell_layer_call_and_return_conditional_losses while saving (showing 5 of 5). These functions will not be directly callable after loading.\n"
     ]
    },
    {
     "name": "stdout",
     "output_type": "stream",
     "text": [
      "INFO:tensorflow:Assets written to: ./saved_models/checkpoints/best_model/assets\n"
     ]
    },
    {
     "name": "stderr",
     "output_type": "stream",
     "text": [
      "INFO:tensorflow:Assets written to: ./saved_models/checkpoints/best_model/assets\n"
     ]
    },
    {
     "name": "stdout",
     "output_type": "stream",
     "text": [
      "Epoch 3/100\n",
      "239/239 [==============================] - 18s 74ms/step - loss: 0.1564 - accuracy: 0.9403 - val_loss: 0.3360 - val_accuracy: 0.8706\n",
      "\n",
      "Epoch 00003: val_accuracy did not improve from 0.87690\n",
      "Epoch 4/100\n",
      "239/239 [==============================] - 17s 71ms/step - loss: 0.1079 - accuracy: 0.9607 - val_loss: 0.3710 - val_accuracy: 0.8748\n",
      "\n",
      "Epoch 00004: val_accuracy did not improve from 0.87690\n",
      "Epoch 5/100\n",
      "239/239 [==============================] - 17s 72ms/step - loss: 0.0774 - accuracy: 0.9727 - val_loss: 0.3939 - val_accuracy: 0.8651\n",
      "\n",
      "Epoch 00005: val_accuracy did not improve from 0.87690\n",
      "Epoch 6/100\n",
      "239/239 [==============================] - 17s 71ms/step - loss: 0.0632 - accuracy: 0.9759 - val_loss: 0.4810 - val_accuracy: 0.8633\n",
      "\n",
      "Epoch 00006: val_accuracy did not improve from 0.87690\n",
      "Epoch 7/100\n",
      "239/239 [==============================] - 17s 72ms/step - loss: 0.0381 - accuracy: 0.9846 - val_loss: 0.5505 - val_accuracy: 0.8698\n",
      "\n",
      "Epoch 00007: val_accuracy did not improve from 0.87690\n",
      "Epoch 8/100\n",
      "239/239 [==============================] - 17s 71ms/step - loss: 0.0286 - accuracy: 0.9891 - val_loss: 0.6149 - val_accuracy: 0.8719\n",
      "\n",
      "Epoch 00008: val_accuracy did not improve from 0.87690\n",
      "Epoch 9/100\n",
      "239/239 [==============================] - 17s 71ms/step - loss: 0.0266 - accuracy: 0.9896 - val_loss: 0.6842 - val_accuracy: 0.8690\n",
      "\n",
      "Epoch 00009: val_accuracy did not improve from 0.87690\n",
      "Epoch 10/100\n",
      "239/239 [==============================] - 17s 71ms/step - loss: 0.0283 - accuracy: 0.9889 - val_loss: 0.7184 - val_accuracy: 0.8714\n",
      "\n",
      "Epoch 00010: val_accuracy did not improve from 0.87690\n",
      "Epoch 11/100\n",
      "239/239 [==============================] - 17s 71ms/step - loss: 0.0205 - accuracy: 0.9918 - val_loss: 0.7744 - val_accuracy: 0.8675\n",
      "\n",
      "Epoch 00011: val_accuracy did not improve from 0.87690\n",
      "Epoch 12/100\n",
      "239/239 [==============================] - 17s 71ms/step - loss: 0.0141 - accuracy: 0.9946 - val_loss: 0.8735 - val_accuracy: 0.8672\n",
      "\n",
      "Epoch 00012: val_accuracy did not improve from 0.87690\n",
      "Epoch 13/100\n",
      "239/239 [==============================] - 17s 71ms/step - loss: 0.0102 - accuracy: 0.9955 - val_loss: 0.9696 - val_accuracy: 0.8667\n",
      "\n",
      "Epoch 00013: val_accuracy did not improve from 0.87690\n",
      "Epoch 14/100\n",
      "239/239 [==============================] - 17s 71ms/step - loss: 0.0122 - accuracy: 0.9945 - val_loss: 0.9381 - val_accuracy: 0.8609\n",
      "\n",
      "Epoch 00014: val_accuracy did not improve from 0.87690\n",
      "Epoch 15/100\n",
      "239/239 [==============================] - 17s 71ms/step - loss: 0.0117 - accuracy: 0.9954 - val_loss: 1.0000 - val_accuracy: 0.8690\n",
      "\n",
      "Epoch 00015: val_accuracy did not improve from 0.87690\n",
      "Epoch 16/100\n",
      "239/239 [==============================] - 17s 71ms/step - loss: 0.0124 - accuracy: 0.9951 - val_loss: 0.9026 - val_accuracy: 0.8622\n",
      "\n",
      "Epoch 00016: val_accuracy did not improve from 0.87690\n",
      "Epoch 17/100\n",
      "239/239 [==============================] - 17s 71ms/step - loss: 0.0101 - accuracy: 0.9963 - val_loss: 0.9941 - val_accuracy: 0.8633\n",
      "\n",
      "Epoch 00017: val_accuracy did not improve from 0.87690\n",
      "Epoch 18/100\n",
      "239/239 [==============================] - 17s 71ms/step - loss: 0.0070 - accuracy: 0.9973 - val_loss: 1.0856 - val_accuracy: 0.8617\n",
      "\n",
      "Epoch 00018: val_accuracy did not improve from 0.87690\n",
      "Epoch 19/100\n",
      "239/239 [==============================] - 17s 70ms/step - loss: 0.0092 - accuracy: 0.9961 - val_loss: 1.0348 - val_accuracy: 0.8646\n",
      "\n",
      "Epoch 00019: val_accuracy did not improve from 0.87690\n",
      "Epoch 20/100\n",
      "239/239 [==============================] - 17s 71ms/step - loss: 0.0064 - accuracy: 0.9981 - val_loss: 1.0498 - val_accuracy: 0.8654\n",
      "\n",
      "Epoch 00020: val_accuracy did not improve from 0.87690\n",
      "Epoch 21/100\n",
      "239/239 [==============================] - 17s 70ms/step - loss: 0.0076 - accuracy: 0.9965 - val_loss: 1.1259 - val_accuracy: 0.8669\n",
      "\n",
      "Epoch 00021: val_accuracy did not improve from 0.87690\n",
      "Epoch 22/100\n",
      "239/239 [==============================] - 17s 70ms/step - loss: 0.0071 - accuracy: 0.9974 - val_loss: 1.0792 - val_accuracy: 0.8659\n",
      "\n",
      "Epoch 00022: val_accuracy did not improve from 0.87690\n",
      "Epoch 23/100\n",
      "239/239 [==============================] - 17s 71ms/step - loss: 0.0079 - accuracy: 0.9968 - val_loss: 1.0367 - val_accuracy: 0.8677\n",
      "\n",
      "Epoch 00023: val_accuracy did not improve from 0.87690\n",
      "Epoch 24/100\n",
      "239/239 [==============================] - 17s 71ms/step - loss: 0.0074 - accuracy: 0.9971 - val_loss: 1.1295 - val_accuracy: 0.8577\n",
      "\n",
      "Epoch 00024: val_accuracy did not improve from 0.87690\n",
      "Epoch 25/100\n",
      "239/239 [==============================] - 17s 70ms/step - loss: 0.0076 - accuracy: 0.9967 - val_loss: 1.1348 - val_accuracy: 0.8682\n",
      "\n",
      "Epoch 00025: val_accuracy did not improve from 0.87690\n",
      "Epoch 26/100\n",
      "239/239 [==============================] - 17s 71ms/step - loss: 0.0066 - accuracy: 0.9975 - val_loss: 1.1568 - val_accuracy: 0.8659\n",
      "\n",
      "Epoch 00026: val_accuracy did not improve from 0.87690\n",
      "Epoch 27/100\n",
      "239/239 [==============================] - 17s 71ms/step - loss: 0.0048 - accuracy: 0.9982 - val_loss: 1.1979 - val_accuracy: 0.8638\n",
      "\n",
      "Epoch 00027: val_accuracy did not improve from 0.87690\n",
      "Epoch 28/100\n",
      "239/239 [==============================] - 17s 70ms/step - loss: 0.0049 - accuracy: 0.9980 - val_loss: 1.1565 - val_accuracy: 0.8661\n",
      "\n",
      "Epoch 00028: val_accuracy did not improve from 0.87690\n",
      "Epoch 29/100\n",
      "239/239 [==============================] - 17s 70ms/step - loss: 0.0055 - accuracy: 0.9979 - val_loss: 1.2146 - val_accuracy: 0.8643\n",
      "\n",
      "Epoch 00029: val_accuracy did not improve from 0.87690\n",
      "Epoch 30/100\n",
      "239/239 [==============================] - 17s 71ms/step - loss: 0.0049 - accuracy: 0.9982 - val_loss: 1.2011 - val_accuracy: 0.8654\n",
      "\n",
      "Epoch 00030: val_accuracy did not improve from 0.87690\n",
      "Epoch 31/100\n",
      "239/239 [==============================] - 17s 71ms/step - loss: 0.0064 - accuracy: 0.9977 - val_loss: 1.2285 - val_accuracy: 0.8685\n",
      "\n",
      "Epoch 00031: val_accuracy did not improve from 0.87690\n",
      "Epoch 32/100\n",
      "239/239 [==============================] - 17s 70ms/step - loss: 0.0052 - accuracy: 0.9981 - val_loss: 1.2370 - val_accuracy: 0.8646\n",
      "\n",
      "Epoch 00032: val_accuracy did not improve from 0.87690\n",
      "Epoch 33/100\n",
      "239/239 [==============================] - 17s 71ms/step - loss: 0.0074 - accuracy: 0.9970 - val_loss: 1.1419 - val_accuracy: 0.8672\n",
      "\n",
      "Epoch 00033: val_accuracy did not improve from 0.87690\n",
      "Epoch 34/100\n",
      "239/239 [==============================] - 17s 70ms/step - loss: 0.0073 - accuracy: 0.9971 - val_loss: 1.1359 - val_accuracy: 0.8717\n",
      "\n",
      "Epoch 00034: val_accuracy did not improve from 0.87690\n"
     ]
    },
    {
     "data": {
      "text/html": [
       "<br/>Waiting for W&B process to finish, PID 2726<br/>Program ended successfully."
      ],
      "text/plain": [
       "<IPython.core.display.HTML object>"
      ]
     },
     "metadata": {
      "tags": []
     },
     "output_type": "display_data"
    },
    {
     "data": {
      "application/vnd.jupyter.widget-view+json": {
       "model_id": "b8fbff32f32a4e63bb2cfb87321ba101",
       "version_major": 2,
       "version_minor": 0
      },
      "text/plain": [
       "VBox(children=(Label(value=' 112.03MB of 112.03MB uploaded (0.00MB deduped)\\r'), FloatProgress(value=1.0, max=…"
      ]
     },
     "metadata": {
      "tags": []
     },
     "output_type": "display_data"
    },
    {
     "data": {
      "text/html": [
       "Find user logs for this run at: <code>/content/wandb/run-20210319_122823-1a5rg9je/logs/debug.log</code>"
      ],
      "text/plain": [
       "<IPython.core.display.HTML object>"
      ]
     },
     "metadata": {
      "tags": []
     },
     "output_type": "display_data"
    },
    {
     "data": {
      "text/html": [
       "Find internal logs for this run at: <code>/content/wandb/run-20210319_122823-1a5rg9je/logs/debug-internal.log</code>"
      ],
      "text/plain": [
       "<IPython.core.display.HTML object>"
      ]
     },
     "metadata": {
      "tags": []
     },
     "output_type": "display_data"
    },
    {
     "data": {
      "text/html": [
       "<h3>Run summary:</h3><br/><style>\n",
       "    table.wandb td:nth-child(1) { padding: 0 10px; text-align: right }\n",
       "    </style><table class=\"wandb\">\n",
       "<tr><td>epoch</td><td>33</td></tr><tr><td>loss</td><td>0.00706</td></tr><tr><td>accuracy</td><td>0.99724</td></tr><tr><td>val_loss</td><td>1.13591</td></tr><tr><td>val_accuracy</td><td>0.87165</td></tr><tr><td>_runtime</td><td>604</td></tr><tr><td>_timestamp</td><td>1616157507</td></tr><tr><td>_step</td><td>33</td></tr><tr><td>best_val_loss</td><td>0.30572</td></tr><tr><td>best_epoch</td><td>1</td></tr></table>"
      ],
      "text/plain": [
       "<IPython.core.display.HTML object>"
      ]
     },
     "metadata": {
      "tags": []
     },
     "output_type": "display_data"
    },
    {
     "data": {
      "text/html": [
       "<h3>Run history:</h3><br/><style>\n",
       "    table.wandb td:nth-child(1) { padding: 0 10px; text-align: right }\n",
       "    </style><table class=\"wandb\">\n",
       "<tr><td>epoch</td><td>▁▁▁▂▂▂▂▂▃▃▃▃▄▄▄▄▄▅▅▅▅▅▆▆▆▆▇▇▇▇▇███</td></tr><tr><td>loss</td><td>█▅▄▃▂▂▂▁▁▁▁▁▁▁▁▁▁▁▁▁▁▁▁▁▁▁▁▁▁▁▁▁▁▁</td></tr><tr><td>accuracy</td><td>▁▅▆▆▇▇▇███████████████████████████</td></tr><tr><td>val_loss</td><td>▁▁▁▁▂▂▃▃▄▄▅▅▆▆▆▅▆▇▆▇▇▇▆▇▇▇█▇████▇▇</td></tr><tr><td>val_accuracy</td><td>▆█▆▇▄▃▅▆▅▆▅▄▄▂▅▃▃▂▃▄▄▄▅▁▅▄▃▄▃▄▅▃▄▆</td></tr><tr><td>_runtime</td><td>▁▁▂▂▂▂▂▃▃▃▃▃▄▄▄▄▅▅▅▅▅▆▆▆▆▆▇▇▇▇▇███</td></tr><tr><td>_timestamp</td><td>▁▁▂▂▂▂▂▃▃▃▃▃▄▄▄▄▅▅▅▅▅▆▆▆▆▆▇▇▇▇▇███</td></tr><tr><td>_step</td><td>▁▁▁▂▂▂▂▂▃▃▃▃▄▄▄▄▄▅▅▅▅▅▆▆▆▆▇▇▇▇▇███</td></tr></table><br/>"
      ],
      "text/plain": [
       "<IPython.core.display.HTML object>"
      ]
     },
     "metadata": {
      "tags": []
     },
     "output_type": "display_data"
    },
    {
     "data": {
      "text/html": [
       "Synced 5 W&B file(s), 1 media file(s), 0 artifact file(s) and 1 other file(s)"
      ],
      "text/plain": [
       "<IPython.core.display.HTML object>"
      ]
     },
     "metadata": {
      "tags": []
     },
     "output_type": "display_data"
    },
    {
     "data": {
      "text/html": [
       "\n",
       "                    <br/>Synced <strong style=\"color:#cdcd00\">iconic-universe-13</strong>: <a href=\"https://wandb.ai/sajadadgar/sentence_base/runs/1a5rg9je\" target=\"_blank\">https://wandb.ai/sajadadgar/sentence_base/runs/1a5rg9je</a><br/>\n",
       "                "
      ],
      "text/plain": [
       "<IPython.core.display.HTML object>"
      ]
     },
     "metadata": {
      "tags": []
     },
     "output_type": "display_data"
    },
    {
     "name": "stdout",
     "output_type": "stream",
     "text": [
      "WARNING:tensorflow:Model was constructed with shape (None, 50) for input KerasTensor(type_spec=TensorSpec(shape=(None, 50), dtype=tf.float32, name='embedding_input'), name='embedding_input', description=\"created by layer 'embedding_input'\"), but it was called on an input with incompatible shape (None, 19).\n"
     ]
    },
    {
     "name": "stderr",
     "output_type": "stream",
     "text": [
      "/usr/local/lib/python3.7/dist-packages/tensorflow/python/keras/engine/sequential.py:450: UserWarning: `model.predict_classes()` is deprecated and will be removed after 2021-01-01. Please use instead:* `np.argmax(model.predict(x), axis=-1)`,   if your model does multi-class classification   (e.g. if it uses a `softmax` last-layer activation).* `(model.predict(x) > 0.5).astype(\"int32\")`,   if your model does binary classification   (e.g. if it uses a `sigmoid` last-layer activation).\n",
      "  warnings.warn('`model.predict_classes()` is deprecated and '\n",
      "WARNING:tensorflow:Model was constructed with shape (None, 50) for input KerasTensor(type_spec=TensorSpec(shape=(None, 50), dtype=tf.float32, name='embedding_input'), name='embedding_input', description=\"created by layer 'embedding_input'\"), but it was called on an input with incompatible shape (None, 19).\n"
     ]
    },
    {
     "name": "stdout",
     "output_type": "stream",
     "text": [
      "              precision    recall  f1-score   support\n",
      "\n",
      "           0       0.88      0.88      0.88      1969\n",
      "           1       0.87      0.88      0.87      1841\n",
      "\n",
      "    accuracy                           0.88      3810\n",
      "   macro avg       0.88      0.88      0.88      3810\n",
      "weighted avg       0.88      0.88      0.88      3810\n",
      "\n",
      "Accuracy score: 0.8769028871391076\n",
      "Precision score: 0.8688172043010752\n",
      "Recall score: 0.8777838131450298\n"
     ]
    },
    {
     "data": {
      "image/png": "[encoded data removed]",
      "text/plain": [
       "<Figure size 432x288 with 2 Axes>"
      ]
     },
     "metadata": {
      "needs_background": "light",
      "tags": []
     },
     "output_type": "display_data"
    }
   ],
   "source": [
    "clear_session()\n",
    "wandb.init(project='sentence_base', entity='sajadadgar')\n",
    "config = wandb.config\n",
    "config.vocab_size = 242759\n",
    "config.maxlen = 50\n",
    "config.embedding_dims = 40\n",
    "config.hidden_dims = 64\n",
    "config.epochs = 100\n",
    "\n",
    "model = Sequential()\n",
    "model.add(Embedding(config.vocab_size,config.embedding_dims,input_length=config.maxlen))\n",
    "model.add(Conv1D(128, 5, activation='relu'))\n",
    "# model.add(Dropout(0.2))\n",
    "model.add(MaxPooling1D(pool_size=2))\n",
    "model.add(Dropout(0.2))\n",
    "model.add(LSTM(config.hidden_dims))\n",
    "# model.add(Dropout(0.2))\n",
    "model.add(Dense(1, activation='sigmoid'))\n",
    "model.compile(optimizer='adam',\n",
    "              loss='binary_crossentropy',\n",
    "              metrics=['accuracy'])\n",
    "print(model.summary())\n",
    "\n",
    "\n",
    "my_callbacks = [\n",
    "    EarlyStopping(patience=10, monitor='val_accuracy', mode='min'),\n",
    "    ModelCheckpoint(\"./saved_models/checkpoints/best_model\", monitor='val_accuracy', verbose=1, save_best_only=True),\n",
    "    WandbCallback()\n",
    "]\n",
    "\n",
    "model.fit(X_train_final, y_train_final, validation_data=(X_test_final,y_test_final), epochs=config.epochs, batch_size=64, callbacks=my_callbacks)\n",
    "\n",
    "wandb.finish()\n",
    "best_model = tf.keras.models.load_model(\"./saved_models/checkpoints/best_model\")\n",
    "prediction = best_model.predict_classes(X_test_final)\n",
    "accuracy = evaluate(y_test_final, prediction)\n",
    "confusion_matrix_plot(confusion_matrix(y_test_final, prediction))"
   ]
  },
  {
   "cell_type": "markdown",
   "metadata": {
    "id": "1xLerTkodMb2"
   },
   "source": [
    "### Save the model"
   ]
  },
  {
   "cell_type": "code",
   "execution_count": 46,
   "metadata": {
    "id": "zolk1J_UdOIg"
   },
   "outputs": [],
   "source": [
    "filename = 'CNN128_LSTM128_0.2dropout.h5'\n",
    "best_model.save('models/' + filename)"
   ]
  }
 ],
 "metadata": {
  "colab": {
   "collapsed_sections": [],
   "name": "Constraint_sentence_base.ipynb",
   "provenance": [],
   "toc_visible": true
  },
  "kernelspec": {
   "display_name": "Python 3",
   "language": "python",
   "name": "python3"
  },
  "language_info": {
   "codemirror_mode": {
    "name": "ipython",
    "version": 3
   },
   "file_extension": ".py",
   "mimetype": "text/x-python",
   "name": "python",
   "nbconvert_exporter": "python",
   "pygments_lexer": "ipython3",
   "version": "3.7.9"
  },
  "widgets": {
   "application/vnd.jupyter.widget-state+json": {
    "01120ec5267d403b99f3130025f47a22": {
     "model_module": "@jupyter-widgets/controls",
     "model_name": "ProgressStyleModel",
     "state": {
      "_model_module": "@jupyter-widgets/controls",
      "_model_module_version": "1.5.0",
      "_model_name": "ProgressStyleModel",
      "_view_count": null,
      "_view_module": "@jupyter-widgets/base",
      "_view_module_version": "1.2.0",
      "_view_name": "StyleView",
      "bar_color": null,
      "description_width": ""
     }
    },
    "0299ba0fc59f4cc0a480ef6b54ca2aca": {
     "model_module": "@jupyter-widgets/base",
     "model_name": "LayoutModel",
     "state": {
      "_model_module": "@jupyter-widgets/base",
      "_model_module_version": "1.2.0",
      "_model_name": "LayoutModel",
      "_view_count": null,
      "_view_module": "@jupyter-widgets/base",
      "_view_module_version": "1.2.0",
      "_view_name": "LayoutView",
      "align_content": null,
      "align_items": null,
      "align_self": null,
      "border": null,
      "bottom": null,
      "display": null,
      "flex": null,
      "flex_flow": null,
      "grid_area": null,
      "grid_auto_columns": null,
      "grid_auto_flow": null,
      "grid_auto_rows": null,
      "grid_column": null,
      "grid_gap": null,
      "grid_row": null,
      "grid_template_areas": null,
      "grid_template_columns": null,
      "grid_template_rows": null,
      "height": null,
      "justify_content": null,
      "justify_items": null,
      "left": null,
      "margin": null,
      "max_height": null,
      "max_width": null,
      "min_height": null,
      "min_width": null,
      "object_fit": null,
      "object_position": null,
      "order": null,
      "overflow": null,
      "overflow_x": null,
      "overflow_y": null,
      "padding": null,
      "right": null,
      "top": null,
      "visibility": null,
      "width": null
     }
    },
    "03d200c8738f47b08c7bf8570913889f": {
     "model_module": "@jupyter-widgets/controls",
     "model_name": "LabelModel",
     "state": {
      "_dom_classes": [],
      "_model_module": "@jupyter-widgets/controls",
      "_model_module_version": "1.5.0",
      "_model_name": "LabelModel",
      "_view_count": null,
      "_view_module": "@jupyter-widgets/controls",
      "_view_module_version": "1.5.0",
      "_view_name": "LabelView",
      "description": "",
      "description_tooltip": null,
      "layout": "IPY_MODEL_8a7289c697784a94b9f28a6f8f0c4365",
      "placeholder": "​",
      "style": "IPY_MODEL_7edbcbd1ed3b483bb1d1251ff3d86759",
      "value": " 113.79MB of 113.79MB uploaded (0.00MB deduped)\r"
     }
    },
    "07fd47efe25e469c9302ae64bdb7d64c": {
     "model_module": "@jupyter-widgets/controls",
     "model_name": "FloatProgressModel",
     "state": {
      "_dom_classes": [],
      "_model_module": "@jupyter-widgets/controls",
      "_model_module_version": "1.5.0",
      "_model_name": "FloatProgressModel",
      "_view_count": null,
      "_view_module": "@jupyter-widgets/controls",
      "_view_module_version": "1.5.0",
      "_view_name": "ProgressView",
      "bar_style": "",
      "description": "",
      "description_tooltip": null,
      "layout": "IPY_MODEL_230581acb846426b9d9532e2fcdd58b0",
      "max": 1,
      "min": 0,
      "orientation": "horizontal",
      "style": "IPY_MODEL_01120ec5267d403b99f3130025f47a22",
      "value": 1
     }
    },
    "0ff450135fd247c299a7e1747820e6b4": {
     "model_module": "@jupyter-widgets/controls",
     "model_name": "DescriptionStyleModel",
     "state": {
      "_model_module": "@jupyter-widgets/controls",
      "_model_module_version": "1.5.0",
      "_model_name": "DescriptionStyleModel",
      "_view_count": null,
      "_view_module": "@jupyter-widgets/base",
      "_view_module_version": "1.2.0",
      "_view_name": "StyleView",
      "description_width": ""
     }
    },
    "230581acb846426b9d9532e2fcdd58b0": {
     "model_module": "@jupyter-widgets/base",
     "model_name": "LayoutModel",
     "state": {
      "_model_module": "@jupyter-widgets/base",
      "_model_module_version": "1.2.0",
      "_model_name": "LayoutModel",
      "_view_count": null,
      "_view_module": "@jupyter-widgets/base",
      "_view_module_version": "1.2.0",
      "_view_name": "LayoutView",
      "align_content": null,
      "align_items": null,
      "align_self": null,
      "border": null,
      "bottom": null,
      "display": null,
      "flex": null,
      "flex_flow": null,
      "grid_area": null,
      "grid_auto_columns": null,
      "grid_auto_flow": null,
      "grid_auto_rows": null,
      "grid_column": null,
      "grid_gap": null,
      "grid_row": null,
      "grid_template_areas": null,
      "grid_template_columns": null,
      "grid_template_rows": null,
      "height": null,
      "justify_content": null,
      "justify_items": null,
      "left": null,
      "margin": null,
      "max_height": null,
      "max_width": null,
      "min_height": null,
      "min_width": null,
      "object_fit": null,
      "object_position": null,
      "order": null,
      "overflow": null,
      "overflow_x": null,
      "overflow_y": null,
      "padding": null,
      "right": null,
      "top": null,
      "visibility": null,
      "width": null
     }
    },
    "2446fcd7f92544b7901a8aa851c465ff": {
     "model_module": "@jupyter-widgets/controls",
     "model_name": "ProgressStyleModel",
     "state": {
      "_model_module": "@jupyter-widgets/controls",
      "_model_module_version": "1.5.0",
      "_model_name": "ProgressStyleModel",
      "_view_count": null,
      "_view_module": "@jupyter-widgets/base",
      "_view_module_version": "1.2.0",
      "_view_name": "StyleView",
      "bar_color": null,
      "description_width": ""
     }
    },
    "2fce483dcc4040cc95cd7f8ebcec365a": {
     "model_module": "@jupyter-widgets/base",
     "model_name": "LayoutModel",
     "state": {
      "_model_module": "@jupyter-widgets/base",
      "_model_module_version": "1.2.0",
      "_model_name": "LayoutModel",
      "_view_count": null,
      "_view_module": "@jupyter-widgets/base",
      "_view_module_version": "1.2.0",
      "_view_name": "LayoutView",
      "align_content": null,
      "align_items": null,
      "align_self": null,
      "border": null,
      "bottom": null,
      "display": null,
      "flex": null,
      "flex_flow": null,
      "grid_area": null,
      "grid_auto_columns": null,
      "grid_auto_flow": null,
      "grid_auto_rows": null,
      "grid_column": null,
      "grid_gap": null,
      "grid_row": null,
      "grid_template_areas": null,
      "grid_template_columns": null,
      "grid_template_rows": null,
      "height": null,
      "justify_content": null,
      "justify_items": null,
      "left": null,
      "margin": null,
      "max_height": null,
      "max_width": null,
      "min_height": null,
      "min_width": null,
      "object_fit": null,
      "object_position": null,
      "order": null,
      "overflow": null,
      "overflow_x": null,
      "overflow_y": null,
      "padding": null,
      "right": null,
      "top": null,
      "visibility": null,
      "width": null
     }
    },
    "33c8a03213584901b19f06c50ebf10a8": {
     "model_module": "@jupyter-widgets/base",
     "model_name": "LayoutModel",
     "state": {
      "_model_module": "@jupyter-widgets/base",
      "_model_module_version": "1.2.0",
      "_model_name": "LayoutModel",
      "_view_count": null,
      "_view_module": "@jupyter-widgets/base",
      "_view_module_version": "1.2.0",
      "_view_name": "LayoutView",
      "align_content": null,
      "align_items": null,
      "align_self": null,
      "border": null,
      "bottom": null,
      "display": null,
      "flex": null,
      "flex_flow": null,
      "grid_area": null,
      "grid_auto_columns": null,
      "grid_auto_flow": null,
      "grid_auto_rows": null,
      "grid_column": null,
      "grid_gap": null,
      "grid_row": null,
      "grid_template_areas": null,
      "grid_template_columns": null,
      "grid_template_rows": null,
      "height": null,
      "justify_content": null,
      "justify_items": null,
      "left": null,
      "margin": null,
      "max_height": null,
      "max_width": null,
      "min_height": null,
      "min_width": null,
      "object_fit": null,
      "object_position": null,
      "order": null,
      "overflow": null,
      "overflow_x": null,
      "overflow_y": null,
      "padding": null,
      "right": null,
      "top": null,
      "visibility": null,
      "width": null
     }
    },
    "43f7359350594a0ea4c1553d194585bd": {
     "model_module": "@jupyter-widgets/base",
     "model_name": "LayoutModel",
     "state": {
      "_model_module": "@jupyter-widgets/base",
      "_model_module_version": "1.2.0",
      "_model_name": "LayoutModel",
      "_view_count": null,
      "_view_module": "@jupyter-widgets/base",
      "_view_module_version": "1.2.0",
      "_view_name": "LayoutView",
      "align_content": null,
      "align_items": null,
      "align_self": null,
      "border": null,
      "bottom": null,
      "display": null,
      "flex": null,
      "flex_flow": null,
      "grid_area": null,
      "grid_auto_columns": null,
      "grid_auto_flow": null,
      "grid_auto_rows": null,
      "grid_column": null,
      "grid_gap": null,
      "grid_row": null,
      "grid_template_areas": null,
      "grid_template_columns": null,
      "grid_template_rows": null,
      "height": null,
      "justify_content": null,
      "justify_items": null,
      "left": null,
      "margin": null,
      "max_height": null,
      "max_width": null,
      "min_height": null,
      "min_width": null,
      "object_fit": null,
      "object_position": null,
      "order": null,
      "overflow": null,
      "overflow_x": null,
      "overflow_y": null,
      "padding": null,
      "right": null,
      "top": null,
      "visibility": null,
      "width": null
     }
    },
    "448f9c1f1e1b4e4c991f5ee308375171": {
     "model_module": "@jupyter-widgets/base",
     "model_name": "LayoutModel",
     "state": {
      "_model_module": "@jupyter-widgets/base",
      "_model_module_version": "1.2.0",
      "_model_name": "LayoutModel",
      "_view_count": null,
      "_view_module": "@jupyter-widgets/base",
      "_view_module_version": "1.2.0",
      "_view_name": "LayoutView",
      "align_content": null,
      "align_items": null,
      "align_self": null,
      "border": null,
      "bottom": null,
      "display": null,
      "flex": null,
      "flex_flow": null,
      "grid_area": null,
      "grid_auto_columns": null,
      "grid_auto_flow": null,
      "grid_auto_rows": null,
      "grid_column": null,
      "grid_gap": null,
      "grid_row": null,
      "grid_template_areas": null,
      "grid_template_columns": null,
      "grid_template_rows": null,
      "height": null,
      "justify_content": null,
      "justify_items": null,
      "left": null,
      "margin": null,
      "max_height": null,
      "max_width": null,
      "min_height": null,
      "min_width": null,
      "object_fit": null,
      "object_position": null,
      "order": null,
      "overflow": null,
      "overflow_x": null,
      "overflow_y": null,
      "padding": null,
      "right": null,
      "top": null,
      "visibility": null,
      "width": null
     }
    },
    "579fa54f1e004a4ab0c3e4e2b2b257cb": {
     "model_module": "@jupyter-widgets/controls",
     "model_name": "ProgressStyleModel",
     "state": {
      "_model_module": "@jupyter-widgets/controls",
      "_model_module_version": "1.5.0",
      "_model_name": "ProgressStyleModel",
      "_view_count": null,
      "_view_module": "@jupyter-widgets/base",
      "_view_module_version": "1.2.0",
      "_view_name": "StyleView",
      "bar_color": null,
      "description_width": ""
     }
    },
    "57b2e8e4d6984b85a147a8293250703c": {
     "model_module": "@jupyter-widgets/base",
     "model_name": "LayoutModel",
     "state": {
      "_model_module": "@jupyter-widgets/base",
      "_model_module_version": "1.2.0",
      "_model_name": "LayoutModel",
      "_view_count": null,
      "_view_module": "@jupyter-widgets/base",
      "_view_module_version": "1.2.0",
      "_view_name": "LayoutView",
      "align_content": null,
      "align_items": null,
      "align_self": null,
      "border": null,
      "bottom": null,
      "display": null,
      "flex": null,
      "flex_flow": null,
      "grid_area": null,
      "grid_auto_columns": null,
      "grid_auto_flow": null,
      "grid_auto_rows": null,
      "grid_column": null,
      "grid_gap": null,
      "grid_row": null,
      "grid_template_areas": null,
      "grid_template_columns": null,
      "grid_template_rows": null,
      "height": null,
      "justify_content": null,
      "justify_items": null,
      "left": null,
      "margin": null,
      "max_height": null,
      "max_width": null,
      "min_height": null,
      "min_width": null,
      "object_fit": null,
      "object_position": null,
      "order": null,
      "overflow": null,
      "overflow_x": null,
      "overflow_y": null,
      "padding": null,
      "right": null,
      "top": null,
      "visibility": null,
      "width": null
     }
    },
    "6128548143fc4f5a8af68f327ce16fed": {
     "model_module": "@jupyter-widgets/controls",
     "model_name": "FloatProgressModel",
     "state": {
      "_dom_classes": [],
      "_model_module": "@jupyter-widgets/controls",
      "_model_module_version": "1.5.0",
      "_model_name": "FloatProgressModel",
      "_view_count": null,
      "_view_module": "@jupyter-widgets/controls",
      "_view_module_version": "1.5.0",
      "_view_name": "ProgressView",
      "bar_style": "",
      "description": "",
      "description_tooltip": null,
      "layout": "IPY_MODEL_ae2484eac8cb49dca7343ebbfa15d1c9",
      "max": 1,
      "min": 0,
      "orientation": "horizontal",
      "style": "IPY_MODEL_579fa54f1e004a4ab0c3e4e2b2b257cb",
      "value": 1
     }
    },
    "63260bccbb8841069ce611dab5546190": {
     "model_module": "@jupyter-widgets/controls",
     "model_name": "LabelModel",
     "state": {
      "_dom_classes": [],
      "_model_module": "@jupyter-widgets/controls",
      "_model_module_version": "1.5.0",
      "_model_name": "LabelModel",
      "_view_count": null,
      "_view_module": "@jupyter-widgets/controls",
      "_view_module_version": "1.5.0",
      "_view_name": "LabelView",
      "description": "",
      "description_tooltip": null,
      "layout": "IPY_MODEL_fa085bf88bb94b4e945562135472687d",
      "placeholder": "​",
      "style": "IPY_MODEL_cafeeb4554ee4b18a9cb9b02a14f471c",
      "value": " 113.37MB of 113.37MB uploaded (0.00MB deduped)\r"
     }
    },
    "799a830ba89b48c3996dcc91e6336e0a": {
     "model_module": "@jupyter-widgets/controls",
     "model_name": "LabelModel",
     "state": {
      "_dom_classes": [],
      "_model_module": "@jupyter-widgets/controls",
      "_model_module_version": "1.5.0",
      "_model_name": "LabelModel",
      "_view_count": null,
      "_view_module": "@jupyter-widgets/controls",
      "_view_module_version": "1.5.0",
      "_view_name": "LabelView",
      "description": "",
      "description_tooltip": null,
      "layout": "IPY_MODEL_43f7359350594a0ea4c1553d194585bd",
      "placeholder": "​",
      "style": "IPY_MODEL_0ff450135fd247c299a7e1747820e6b4",
      "value": " 112.59MB of 112.59MB uploaded (0.00MB deduped)\r"
     }
    },
    "7c0efd0d833b4c948b40397ace58b750": {
     "model_module": "@jupyter-widgets/base",
     "model_name": "LayoutModel",
     "state": {
      "_model_module": "@jupyter-widgets/base",
      "_model_module_version": "1.2.0",
      "_model_name": "LayoutModel",
      "_view_count": null,
      "_view_module": "@jupyter-widgets/base",
      "_view_module_version": "1.2.0",
      "_view_name": "LayoutView",
      "align_content": null,
      "align_items": null,
      "align_self": null,
      "border": null,
      "bottom": null,
      "display": null,
      "flex": null,
      "flex_flow": null,
      "grid_area": null,
      "grid_auto_columns": null,
      "grid_auto_flow": null,
      "grid_auto_rows": null,
      "grid_column": null,
      "grid_gap": null,
      "grid_row": null,
      "grid_template_areas": null,
      "grid_template_columns": null,
      "grid_template_rows": null,
      "height": null,
      "justify_content": null,
      "justify_items": null,
      "left": null,
      "margin": null,
      "max_height": null,
      "max_width": null,
      "min_height": null,
      "min_width": null,
      "object_fit": null,
      "object_position": null,
      "order": null,
      "overflow": null,
      "overflow_x": null,
      "overflow_y": null,
      "padding": null,
      "right": null,
      "top": null,
      "visibility": null,
      "width": null
     }
    },
    "7edbcbd1ed3b483bb1d1251ff3d86759": {
     "model_module": "@jupyter-widgets/controls",
     "model_name": "DescriptionStyleModel",
     "state": {
      "_model_module": "@jupyter-widgets/controls",
      "_model_module_version": "1.5.0",
      "_model_name": "DescriptionStyleModel",
      "_view_count": null,
      "_view_module": "@jupyter-widgets/base",
      "_view_module_version": "1.2.0",
      "_view_name": "StyleView",
      "description_width": ""
     }
    },
    "8a7289c697784a94b9f28a6f8f0c4365": {
     "model_module": "@jupyter-widgets/base",
     "model_name": "LayoutModel",
     "state": {
      "_model_module": "@jupyter-widgets/base",
      "_model_module_version": "1.2.0",
      "_model_name": "LayoutModel",
      "_view_count": null,
      "_view_module": "@jupyter-widgets/base",
      "_view_module_version": "1.2.0",
      "_view_name": "LayoutView",
      "align_content": null,
      "align_items": null,
      "align_self": null,
      "border": null,
      "bottom": null,
      "display": null,
      "flex": null,
      "flex_flow": null,
      "grid_area": null,
      "grid_auto_columns": null,
      "grid_auto_flow": null,
      "grid_auto_rows": null,
      "grid_column": null,
      "grid_gap": null,
      "grid_row": null,
      "grid_template_areas": null,
      "grid_template_columns": null,
      "grid_template_rows": null,
      "height": null,
      "justify_content": null,
      "justify_items": null,
      "left": null,
      "margin": null,
      "max_height": null,
      "max_width": null,
      "min_height": null,
      "min_width": null,
      "object_fit": null,
      "object_position": null,
      "order": null,
      "overflow": null,
      "overflow_x": null,
      "overflow_y": null,
      "padding": null,
      "right": null,
      "top": null,
      "visibility": null,
      "width": null
     }
    },
    "9099e0c30a6e4adf8b61e012750cb725": {
     "model_module": "@jupyter-widgets/controls",
     "model_name": "VBoxModel",
     "state": {
      "_dom_classes": [],
      "_model_module": "@jupyter-widgets/controls",
      "_model_module_version": "1.5.0",
      "_model_name": "VBoxModel",
      "_view_count": null,
      "_view_module": "@jupyter-widgets/controls",
      "_view_module_version": "1.5.0",
      "_view_name": "VBoxView",
      "box_style": "",
      "children": [
       "IPY_MODEL_799a830ba89b48c3996dcc91e6336e0a",
       "IPY_MODEL_6128548143fc4f5a8af68f327ce16fed"
      ],
      "layout": "IPY_MODEL_7c0efd0d833b4c948b40397ace58b750"
     }
    },
    "a118cf86dbff47f19a9c6c3355908584": {
     "model_module": "@jupyter-widgets/controls",
     "model_name": "ProgressStyleModel",
     "state": {
      "_model_module": "@jupyter-widgets/controls",
      "_model_module_version": "1.5.0",
      "_model_name": "ProgressStyleModel",
      "_view_count": null,
      "_view_module": "@jupyter-widgets/base",
      "_view_module_version": "1.2.0",
      "_view_name": "StyleView",
      "bar_color": null,
      "description_width": ""
     }
    },
    "ae2484eac8cb49dca7343ebbfa15d1c9": {
     "model_module": "@jupyter-widgets/base",
     "model_name": "LayoutModel",
     "state": {
      "_model_module": "@jupyter-widgets/base",
      "_model_module_version": "1.2.0",
      "_model_name": "LayoutModel",
      "_view_count": null,
      "_view_module": "@jupyter-widgets/base",
      "_view_module_version": "1.2.0",
      "_view_name": "LayoutView",
      "align_content": null,
      "align_items": null,
      "align_self": null,
      "border": null,
      "bottom": null,
      "display": null,
      "flex": null,
      "flex_flow": null,
      "grid_area": null,
      "grid_auto_columns": null,
      "grid_auto_flow": null,
      "grid_auto_rows": null,
      "grid_column": null,
      "grid_gap": null,
      "grid_row": null,
      "grid_template_areas": null,
      "grid_template_columns": null,
      "grid_template_rows": null,
      "height": null,
      "justify_content": null,
      "justify_items": null,
      "left": null,
      "margin": null,
      "max_height": null,
      "max_width": null,
      "min_height": null,
      "min_width": null,
      "object_fit": null,
      "object_position": null,
      "order": null,
      "overflow": null,
      "overflow_x": null,
      "overflow_y": null,
      "padding": null,
      "right": null,
      "top": null,
      "visibility": null,
      "width": null
     }
    },
    "b2c34c389cac45e59f48f94669d9520e": {
     "model_module": "@jupyter-widgets/base",
     "model_name": "LayoutModel",
     "state": {
      "_model_module": "@jupyter-widgets/base",
      "_model_module_version": "1.2.0",
      "_model_name": "LayoutModel",
      "_view_count": null,
      "_view_module": "@jupyter-widgets/base",
      "_view_module_version": "1.2.0",
      "_view_name": "LayoutView",
      "align_content": null,
      "align_items": null,
      "align_self": null,
      "border": null,
      "bottom": null,
      "display": null,
      "flex": null,
      "flex_flow": null,
      "grid_area": null,
      "grid_auto_columns": null,
      "grid_auto_flow": null,
      "grid_auto_rows": null,
      "grid_column": null,
      "grid_gap": null,
      "grid_row": null,
      "grid_template_areas": null,
      "grid_template_columns": null,
      "grid_template_rows": null,
      "height": null,
      "justify_content": null,
      "justify_items": null,
      "left": null,
      "margin": null,
      "max_height": null,
      "max_width": null,
      "min_height": null,
      "min_width": null,
      "object_fit": null,
      "object_position": null,
      "order": null,
      "overflow": null,
      "overflow_x": null,
      "overflow_y": null,
      "padding": null,
      "right": null,
      "top": null,
      "visibility": null,
      "width": null
     }
    },
    "b7685c0c4baf4b4192e529f887d8ac1d": {
     "model_module": "@jupyter-widgets/controls",
     "model_name": "VBoxModel",
     "state": {
      "_dom_classes": [],
      "_model_module": "@jupyter-widgets/controls",
      "_model_module_version": "1.5.0",
      "_model_name": "VBoxModel",
      "_view_count": null,
      "_view_module": "@jupyter-widgets/controls",
      "_view_module_version": "1.5.0",
      "_view_name": "VBoxView",
      "box_style": "",
      "children": [
       "IPY_MODEL_e7d9941f553645e093667e09ce51681a",
       "IPY_MODEL_e254f05b4feb46909de240aca1be73a3"
      ],
      "layout": "IPY_MODEL_33c8a03213584901b19f06c50ebf10a8"
     }
    },
    "b8fbff32f32a4e63bb2cfb87321ba101": {
     "model_module": "@jupyter-widgets/controls",
     "model_name": "VBoxModel",
     "state": {
      "_dom_classes": [],
      "_model_module": "@jupyter-widgets/controls",
      "_model_module_version": "1.5.0",
      "_model_name": "VBoxModel",
      "_view_count": null,
      "_view_module": "@jupyter-widgets/controls",
      "_view_module_version": "1.5.0",
      "_view_name": "VBoxView",
      "box_style": "",
      "children": [
       "IPY_MODEL_63260bccbb8841069ce611dab5546190",
       "IPY_MODEL_07fd47efe25e469c9302ae64bdb7d64c"
      ],
      "layout": "IPY_MODEL_57b2e8e4d6984b85a147a8293250703c"
     }
    },
    "c89f72c5fa7c4c58a0d247abe97b59fc": {
     "model_module": "@jupyter-widgets/controls",
     "model_name": "DescriptionStyleModel",
     "state": {
      "_model_module": "@jupyter-widgets/controls",
      "_model_module_version": "1.5.0",
      "_model_name": "DescriptionStyleModel",
      "_view_count": null,
      "_view_module": "@jupyter-widgets/base",
      "_view_module_version": "1.2.0",
      "_view_name": "StyleView",
      "description_width": ""
     }
    },
    "cafeeb4554ee4b18a9cb9b02a14f471c": {
     "model_module": "@jupyter-widgets/controls",
     "model_name": "DescriptionStyleModel",
     "state": {
      "_model_module": "@jupyter-widgets/controls",
      "_model_module_version": "1.5.0",
      "_model_name": "DescriptionStyleModel",
      "_view_count": null,
      "_view_module": "@jupyter-widgets/base",
      "_view_module_version": "1.2.0",
      "_view_name": "StyleView",
      "description_width": ""
     }
    },
    "d51d63cb81584c65803489cf47232391": {
     "model_module": "@jupyter-widgets/controls",
     "model_name": "FloatProgressModel",
     "state": {
      "_dom_classes": [],
      "_model_module": "@jupyter-widgets/controls",
      "_model_module_version": "1.5.0",
      "_model_name": "FloatProgressModel",
      "_view_count": null,
      "_view_module": "@jupyter-widgets/controls",
      "_view_module_version": "1.5.0",
      "_view_name": "ProgressView",
      "bar_style": "",
      "description": "",
      "description_tooltip": null,
      "layout": "IPY_MODEL_448f9c1f1e1b4e4c991f5ee308375171",
      "max": 1,
      "min": 0,
      "orientation": "horizontal",
      "style": "IPY_MODEL_2446fcd7f92544b7901a8aa851c465ff",
      "value": 1
     }
    },
    "e254f05b4feb46909de240aca1be73a3": {
     "model_module": "@jupyter-widgets/controls",
     "model_name": "FloatProgressModel",
     "state": {
      "_dom_classes": [],
      "_model_module": "@jupyter-widgets/controls",
      "_model_module_version": "1.5.0",
      "_model_name": "FloatProgressModel",
      "_view_count": null,
      "_view_module": "@jupyter-widgets/controls",
      "_view_module_version": "1.5.0",
      "_view_name": "ProgressView",
      "bar_style": "",
      "description": "",
      "description_tooltip": null,
      "layout": "IPY_MODEL_b2c34c389cac45e59f48f94669d9520e",
      "max": 1,
      "min": 0,
      "orientation": "horizontal",
      "style": "IPY_MODEL_a118cf86dbff47f19a9c6c3355908584",
      "value": 1
     }
    },
    "e7d9941f553645e093667e09ce51681a": {
     "model_module": "@jupyter-widgets/controls",
     "model_name": "LabelModel",
     "state": {
      "_dom_classes": [],
      "_model_module": "@jupyter-widgets/controls",
      "_model_module_version": "1.5.0",
      "_model_name": "LabelModel",
      "_view_count": null,
      "_view_module": "@jupyter-widgets/controls",
      "_view_module_version": "1.5.0",
      "_view_name": "LabelView",
      "description": "",
      "description_tooltip": null,
      "layout": "IPY_MODEL_2fce483dcc4040cc95cd7f8ebcec365a",
      "placeholder": "​",
      "style": "IPY_MODEL_c89f72c5fa7c4c58a0d247abe97b59fc",
      "value": " 112.23MB of 112.23MB uploaded (0.00MB deduped)\r"
     }
    },
    "fa085bf88bb94b4e945562135472687d": {
     "model_module": "@jupyter-widgets/base",
     "model_name": "LayoutModel",
     "state": {
      "_model_module": "@jupyter-widgets/base",
      "_model_module_version": "1.2.0",
      "_model_name": "LayoutModel",
      "_view_count": null,
      "_view_module": "@jupyter-widgets/base",
      "_view_module_version": "1.2.0",
      "_view_name": "LayoutView",
      "align_content": null,
      "align_items": null,
      "align_self": null,
      "border": null,
      "bottom": null,
      "display": null,
      "flex": null,
      "flex_flow": null,
      "grid_area": null,
      "grid_auto_columns": null,
      "grid_auto_flow": null,
      "grid_auto_rows": null,
      "grid_column": null,
      "grid_gap": null,
      "grid_row": null,
      "grid_template_areas": null,
      "grid_template_columns": null,
      "grid_template_rows": null,
      "height": null,
      "justify_content": null,
      "justify_items": null,
      "left": null,
      "margin": null,
      "max_height": null,
      "max_width": null,
      "min_height": null,
      "min_width": null,
      "object_fit": null,
      "object_position": null,
      "order": null,
      "overflow": null,
      "overflow_x": null,
      "overflow_y": null,
      "padding": null,
      "right": null,
      "top": null,
      "visibility": null,
      "width": null
     }
    },
    "fbe544614b8f4fc4a42ed80d064d33ee": {
     "model_module": "@jupyter-widgets/controls",
     "model_name": "VBoxModel",
     "state": {
      "_dom_classes": [],
      "_model_module": "@jupyter-widgets/controls",
      "_model_module_version": "1.5.0",
      "_model_name": "VBoxModel",
      "_view_count": null,
      "_view_module": "@jupyter-widgets/controls",
      "_view_module_version": "1.5.0",
      "_view_name": "VBoxView",
      "box_style": "",
      "children": [
       "IPY_MODEL_03d200c8738f47b08c7bf8570913889f",
       "IPY_MODEL_d51d63cb81584c65803489cf47232391"
      ],
      "layout": "IPY_MODEL_0299ba0fc59f4cc0a480ef6b54ca2aca"
     }
    }
   }
  }
 },
 "nbformat": 4,
 "nbformat_minor": 1
}
